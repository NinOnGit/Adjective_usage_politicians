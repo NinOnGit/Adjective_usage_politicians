{
 "cells": [
  {
   "cell_type": "code",
   "execution_count": 1,
   "id": "fd80d90b",
   "metadata": {},
   "outputs": [],
   "source": [
    "import pandas as pd\n",
    "from gensim.test.utils import common_texts\n",
    "from gensim.models import Word2Vec\n",
    "import gensim\n",
    "import numpy as np\n",
    "import statistics"
   ]
  },
  {
   "cell_type": "code",
   "execution_count": 2,
   "id": "38b3d946",
   "metadata": {},
   "outputs": [],
   "source": [
    "female_model = Word2Vec.load(\"C:/Users/ninat/Downloads/thesis_data/female_word2vec.model\")\n",
    "male_model = Word2Vec.load(\"C:/Users/ninat/Downloads/thesis_data/male_word2vec.model\")"
   ]
  },
  {
   "cell_type": "code",
   "execution_count": 3,
   "id": "c5eda909",
   "metadata": {},
   "outputs": [
    {
     "name": "stdout",
     "output_type": "stream",
     "text": [
      "('picturesque', 0.6621178388595581)\n",
      "('bustling', 0.6389173269271851)\n",
      "('scenic', 0.6367611289024353)\n",
      "('stunning', 0.6342751979827881)\n",
      "('scenery', 0.6338444352149963)\n"
     ]
    }
   ],
   "source": [
    "for i in female_model.wv.most_similar(positive=['beautiful'], topn=5):\n",
    "    print(i)"
   ]
  },
  {
   "cell_type": "markdown",
   "id": "f3e09c73",
   "metadata": {},
   "source": [
    "## Adjective categories"
   ]
  },
  {
   "cell_type": "code",
   "execution_count": 5,
   "id": "103998c0",
   "metadata": {},
   "outputs": [],
   "source": [
    "# all adjectives to compute distances to\n",
    "physical_appearance = ['shorter', 'cute', 'plain', 'short', 'beautiful', 'big', 'appealing', 'grand', 'attractive', 'biggest', 'elegant', 'fascinating', 'fragile', 'pretty', 'ugly', 'blond', 'fit', 'fat', 'gorgeous', 'curvy', 'handsome', 'pleasing', 'hot', 'skinny', 'redhead', 'tiny', 'splendid', 'sexy', 'blonde', 'charming', 'small', 'unattractive', 'sized', 'muscular', 'thin', 'fashioned', 'large', 'fashionable', 'delightful', 'wider', 'basic', 'chubby', 'delicate', 'graceful', 'marvelous', 'exquisite', 'massive', 'superb', 'alluring', 'dazzling', 'good-looking', 'brunette', 'medium', 'magnificent', 'tall', 'youthful', 'larger', 'stunning', 'adorable', 'athletic', 'attractive', 'beautiful', 'big', 'blue-eyed', 'blushing', 'chubby', 'curvy', 'cute', 'fat', 'feeble', 'filthy', 'fit', 'glamorous', 'gorgeous', 'handsome', 'heavy', 'hot', 'lanky', 'large', 'lean', 'long', 'muscular', 'overweight', 'obese', 'petite', 'plain', 'pretty', 'skinny', 'slender', 'slim', 'sparkling', 'spotless', 'stunning', 'thin', 'ugliest', 'ugly', 'unattractive', 'unsightly', 'well-dressed', 'wide-eyed']\n",
    "\n",
    "intellect_education = ['literate', 'effective', 'naive', 'moronic', 'insightful', 'well-read', 'adept', 'educational', 'brainy', 'keen', 'innovative', 'proficient', 'bright', 'alert', 'whiz', 'unintelligent', 'canny', 'ignorant', 'active', 'wise', 'sharp', 'crafty', 'ingenious', 'fresh', 'trained', 'agile', 'productive', 'advanced', 'useful', 'hardworking', 'scientific', 'stupid', 'astute', 'inventive', 'savvy', 'slow', 'ready', 'shrewd', 'deluded', 'quick', 'nimble', 'smart', 'competitive', 'numerate', 'uncultured', 'articulate', 'skull', 'qualified', 'academic', 'cultured', 'acute', 'professional', 'brisk', 'enlightening', 'successful', 'quick-witted', 'idiotic', 'irresponsible', 'foolish', 'informative', 'impertinent', 'dumb', 'uneducated', 'genius', 'academically', 'ambitious', 'pointed', 'intelligent', 'eggheaded', 'bold', 'inefficient', 'resourceful', 'smarter', 'multilingual', 'apt', 'clever', 'inactive', 'lazy', 'slick', 'illiterate', 'educated', 'genius', 'intellect', 'reasoned', 'perceptive', 'incisive', 'smart', 'deductive', 'insightful', 'meditative', 'involving', 'astute', 'intelligent', 'perceptive', 'calculating', 'logical', 'practical', 'complex', 'methodical', 'strategic', 'insightful', 'thoughtful', 'ingenious', 'robust', 'innovative', 'sophisticated', 'novel', 'imaginative', 'accomplished', 'fluent', 'significant', 'adept', 'ideal', 'smooth', 'advanced', 'industrious', 'skilled', 'competent', 'influential', 'skillful', 'constructive', 'instrumental', 'productive', 'superior', 'economical', 'proficient', 'qualified', 'expert', 'profitable', 'passionate', 'dedicated', 'studious', 'focused', 'motivated', 'driven', 'persistent', 'methodical', 'controlled', 'orderly', 'structured', 'detailed', 'precise', 'systematic', 'detail-oriented', 'accurate', 'exact', 'professional', 'punctual', 'dependable', 'resilient', 'diligent', 'disciplined']\n",
    "\n",
    "emotionality_state_of_mind = ['contented', 'delighted', 'enjoyable', 'amazed', 'conscious', 'lively', 'hysterical', 'depressed', 'worse', 'pleased', 'awful', 'lot', 'satisfied', 'convinced', 'unhappy', 'tormented', 'lonely', 'mad', 'willing', 'viscerally', 'heartbroken', 'disappointing', 'elated', 'cheerful', 'upset', 'thrilled', 'somber', 'calm', 'fearful', 'disheartened', 'concerned', 'flabbergasted', 'scared', 'joyous', 'glad', 'sober', 'dissatisfied', 'indignant', 'inept', 'upsetting', 'excited', 'emotional', 'desperate', 'alive', 'disillusioned', 'pessimistic', 'baffled', 'distraught', 'uptight', 'unpatriotic', 'melancholy', 'depressing', 'surprised', 'apologetic', 'resentful', 'grateful', 'sickened', 'jubilant', 'clutched', 'distracted', 'merry', 'irritated', 'mournful', 'impassioned', 'unelectable', 'sullen', 'anxious', 'ashamed', 'gladly', 'sorrowful', 'distressed', 'apprehensive', 'irritable', 'bitter', 'reluctant', 'bewildered', 'fearing', 'embarrassed', 'giggly', 'happy', 'appalling', 'frustrated', 'content', 'bothered', 'compassionate', 'peaceful', 'offended', 'enraged', 'perturbed', 'disturbed', 'annoyed', 'childish', 'happier', 'furious', 'confident', 'afraid', 'optimistic', 'saddened', 'dreadful', 'hopeful', 'heated', 'uncomfortable', 'pleasant', 'exasperated', 'disappointed', 'outraged', 'frightened', 'fretful', 'empathetic', 'overjoyed', 'tragic', 'bad', 'disgusted', 'arrogant', 'confused', 'irate', 'nervous', 'tense', 'grumpy', 'happily', 'dismal', 'ecstatic', 'shocked', 'sad', 'joyful', 'worried', 'sympathetic', 'angry', 'affected', 'aroused', 'emotional', 'emotive', 'excited', 'fervent', 'fervid', 'hysterical', 'impassioned', 'livid', 'mad', 'moved', 'supercharged', 'thrilling', 'touched', 'unemotional', 'envious', 'disgusted', 'jealous', 'raged', 'alarmed', 'feared', 'hysteric', 'paniced', 'bitter', 'outraged', 'hateful', 'nervous', 'worried', 'pleasured', 'content', 'optimistic', 'relieved', 'affectionate', 'passionate', 'guilty', 'shameful', 'surprised', 'sad', 'unhappy', 'sorrowful', 'dejected', 'regretful', 'depressed', 'downcast', 'miserable', 'jolly', 'joyful', 'jovial', 'smiling', 'carefree', 'lucky', 'merry']\n",
    "\n",
    "physical_state_condition = ['ailing', 'underdeveloped', 'ill', 'capable', 'firm', 'woozy', 'afflicted', 'tired', 'able', 'athletic', 'exasperated', 'overworked', 'fit', 'healthy', 'deceased', 'unwashed', 'thinner', 'adorable', 'drained', 'thirsty', 'exhausted', 'alive', 'epileptic', 'durable', 'diseased', 'infirm', 'weighty', 'energetic', 'awake', 'bruised', 'sick', 'incurable', 'poorly', 'sleepy', 'sporty', 'paralysed', 'unfit', 'stronger', 'disabled', 'fatigued', 'active', 'irritated', 'forceful', 'hungry', 'tall', 'strong', 'sore', 'starving', 'feverish', 'muscular', 'muscly', 'sturdy', 'strapping', 'robust', 'able-bodied', 'vigorous', 'hardy', 'fit', 'aerobicized', 'healthy', 'sporty', 'husky', 'hunky', 'beefy', 'ripped', 'shredded', 'buff', 'jacked', 'gymnastic', 'ill', 'unwell', 'poorly', 'ailing', 'indisposed', 'nauseous', 'nauseated', 'queasy', 'bilious', 'seasick', 'carsick', 'airsick', 'barfy', 'sick', 'tired', 'weak']\n",
    "\n",
    "personality_traits = ['polite', 'brave', 'insulting', 'incompetent', 'amicable', 'naive', 'transparent', 'shameful', 'avoidable', 'awful', 'thoughtful', 'curious', 'silent', 'amiable', 'unfair', 'unthinkable', 'surprising', 'energetic', 'weirdy', 'absurd', 'reliable', 'mad', 'amusing', 'hopeless', 'comprehensive', 'friendly', 'courageous', 'ignorant', 'wacky', 'appreciative', 'silly', 'fabulous', 'affable', 'receptive', 'selfish', 'elegant', 'unpleasant', 'scared', 'nuts', 'annoying', 'toxic', 'reckless', 'forgiving', 'pessimistic', 'contentious', 'threatening', 'deluded', 'mindful', 'depressing', 'rude', 'distasteful', 'attacking', 'disagreeable', 'lovely', 'hyperactive', 'honourable', 'unacceptable', 'irritated', 'antipathetic', 'inconsistent', 'combative', 'kooky', 'aggressive', 'indefensible', 'consistent', 'inadequate', 'careful', 'affectionate', 'humble', 'trustworthy', 'independent', 'bewildered', 'progressive', 'marvellous', 'tolerant', 'louder', 'unbelievable', 'spiteful', 'inappropriate', 'pleasing', 'incisive', 'awesome', 'neighborly', 'embarrassing', 'dangerous', 'idiotic', 'critical', 'irresponsible', 'dirty', 'unjustifiable', 'robust', 'unreasonable', 'sensitive', 'pathetic', 'funny', 'peaceful', 'foolish', 'helpful', 'loyal', 'insane', 'nutty', 'superb', 'crazy', 'gentle', 'loving', 'approachable', 'furious', 'detailed', 'dreadful', 'intolerable', 'antisocial', 'lousy', 'unhelpful', 'assailing', 'violent', 'destructive', 'humorous', 'provocative', 'terrible', 'stable', 'bold', 'selfless', 'catastrophic', 'timid', 'beneficial', 'frustrating', 'unclear', 'charming', 'radical', 'unsurprising', 'intrusive', 'romantic', 'delightful', 'vital', 'favorable', 'generous', 'advancing', 'attentive', 'creative', 'unfaithful', 'unreliable', 'sympathetic', 'adaptable', 'courageous', 'giving', 'neat', 'self-confident', 'adventurous', 'creative', 'self-disciplined', 'affable', 'decisive', 'gregarious', 'non-judgemental', 'sensible', 'affectionate', 'dependable', 'hardworking', 'observant', 'sensitive', 'agreeable', 'determined', 'helpful', 'optimistic', 'shy', 'ambitious', 'diligent', 'hilarious', 'organized', 'silly', 'amiable', 'diplomatic', 'honest', 'passionate', 'sincere', 'amicable', 'discreet', 'humorous', 'patient', 'amusing', 'dynamic', 'imaginative', 'persistent', 'socialable', 'artistic', 'easy-going', 'impartial', 'pioneering', 'straight-forward', 'brave', 'independent', 'philosophical', 'sympathetic', 'bright', 'efficient', 'industrious', 'placid', 'talkative', 'broad-minded', 'energetic', 'intelligent', 'plucky', 'thoughtful', 'calm', 'enthusiastic', 'intellectual', 'polite', 'tidy', 'careful', 'extroverted', 'intuitive', 'popular', 'tough', 'charismatic', 'exuberant', 'inventive', 'trustworthy', 'charming', 'fair-minded', 'joyful', 'practical', 'unassuming', 'chatty', 'faithful', 'kind', 'pro-active', 'understanding', 'cheerful', 'fearless', 'kooky', 'quick-witted', 'upbeat', 'clever', 'forceful', 'laid-back', 'quiet', 'versatile', 'communicative', 'frank', 'likable', 'rational', 'warmhearted', 'compassionate', 'friendly', 'loving', 'reliable', 'wild', 'conscientious', 'funny', 'loyal', 'reserved', 'wise', 'considerate', 'generous', 'resourceful', 'witty', 'convivial', 'gentle', 'modest', 'romantic', 'aggressive', 'cynical', 'impolite', 'nervous', 'sneaky', 'aloof', 'deceitful', 'impulsive', 'obstinate', 'stubborn', 'defensive', 'inconsiderate', 'overcritical', 'arrogant', 'devious', 'indecisive', 'overemotional', 'sullen', 'bad-tempered', 'indiscreet', 'patronizing', 'tactless', 'belligerent', 'dishonest', 'inflexible', 'pig-headed', 'thoughtless', 'big-headed', 'domineering', 'intolerant', 'pessimistic', 'touchy', 'boastful', 'egotistical', 'introverted', 'boring', 'finicky', 'irresponsible', 'possessive', 'unpredictable', 'bossy', 'foolish', 'jealous', 'quick-tempered', 'unreliable', 'callous', 'gussy', 'lazy', 'resentful', 'untidy', 'careless', 'gullible', 'loud', 'rude', 'untrustworthy', 'clingy', 'grumpy', 'mean', 'secretive', 'vague', 'confrontational', 'hostile', 'moody', 'self-centered', 'vain', 'cowardly', 'idle', 'narrowminded', 'selfish', 'vulgar', 'cruel', 'impatient', 'nasty', 'silly', 'weak-willed']\n",
    "\n",
    "age = ['14-year', 'older', 'adolescence', 'old', 'teenage', 'eldest', 'undergraduates', 'veteran', 'newborn', 'tired', '24-week', 'blooming', 'senior', 'infantile', 'recent', 'baby', '60-year', 'fossil', 'aged', 'premature', '21st', '90-year', 'modern', '20s', '84-year', 'bygone', '95-year', 'old-fashioned', 'babyish', 'decrepit', '13-year', 'gray', '15-year', 'younger', '27-year', '2, 517', 'adolescent', 'stillborn', '92-year', 'budding', 'fashioned', '80-year', '34-year', 'antique', 'elderly', '79-year', 'undergraduate', 'blossoming', 'teen', '22-year', 'oldest', 'mature', '38-year', 'ancient', 'youngsters', '92nd', '12-year', 'venerable', 'youthful', 'young', 'versed', 'youngest', '46-year', 'adult', 'aging', 'geriatric', 'lived', 'senescent', 'senior', 'junior', 'oldish', 'pensioned', 'retired', 'youngish', 'minor', 'underage', 'immature', 'preteen', 'babyish', 'youthful']\n",
    "\n",
    "rela_gender_status = ['bachelor', 'married', 'joined', 'unwed', 'united', 'wedded', 'widower', 'widowed', 'marital', 'husbandless', 'spouseless', 'espoused', 'unmarried', 'unattached', 'unwedded', 'wed', 'remarriage', 'uncoupled', 'single', 'sole', 'mated', 'unmarried', 'wifeless', 'espoused', 'nonmarital', 'marital']"
   ]
  },
  {
   "cell_type": "code",
   "execution_count": 6,
   "id": "0b0739ce",
   "metadata": {},
   "outputs": [],
   "source": [
    "# create sets and store all adjective lists in one big list\n",
    "lists = [physical_appearance] + [intellect_education] + [emotionality_state_of_mind] + [physical_state_condition] + [personality_traits] + [age] + [rela_gender_status]\n",
    "sets = []\n",
    "\n",
    "for l in range(len(lists)):\n",
    "    l2 = set(lists[l])\n",
    "    sets.append(list(l2))\n",
    "\n",
    "terms = ['physical_appearance', 'intellect_education', 'emotionality_state_of_mind', 'physical_state_condition', 'personality_traits', 'age', 'rela_gender_status']"
   ]
  },
  {
   "cell_type": "code",
   "execution_count": 7,
   "id": "77b84805",
   "metadata": {},
   "outputs": [],
   "source": [
    "# remove adjectives that are not in the models\n",
    "for l in sets:\n",
    "    for word in l:\n",
    "        if word not in female_model.wv:\n",
    "            l.remove(word)\n",
    "            \n",
    "for l in sets:\n",
    "    for word in l:\n",
    "        if word not in male_model.wv:\n",
    "            l.remove(word)"
   ]
  },
  {
   "cell_type": "markdown",
   "id": "daa97475",
   "metadata": {},
   "source": [
    "## Word embeddings distances"
   ]
  },
  {
   "cell_type": "code",
   "execution_count": 8,
   "id": "56cb0009",
   "metadata": {},
   "outputs": [],
   "source": [
    "# list of male and female words\n",
    "male_words = [\"nephew\", \"nephews\", \"father\", \"dad\", \"daddies\", \"grandfather\", \"step-son\", \"step-sons\", \"men\", \"son-in-law\", \"king\", \"daddy\", \"son\", \"groom\", \"grooms\", \"gentleman\", \"gentlemen\", \"sir\", \"lad\", \"grandson\", \"grand-son\", \"dads\", \"prince\", \"stepfathers\", \"boyfriend\", \"males\", \"grandfathers\", \"grand-fathers\", \"husband\", \"husbands\", \"boy\", \"bachelor\", \"bachelors\", \"duke\", \"sirs\", \"papas\", \"heir\", \"uncle\", \"mr\", \"lords\", \"father-inlaw\", \"sons-in-law\", \"fiances\",\"fiance\", \"uncles\", \"lads\", \"brother\", \"grandpa\", \"grandpas\", \"heirs\", \"male\",  \"grandsons\", \"grandsons\", \"boys\", \"he\", \"step-father\", \"bridegroom\", \"bridegrooms stepfather\",  \"mr.\", \"brothers\", \"man\", \"sons\", \"boyfriends\", \"he’s\", \"his\", \"him\", \"stepson\", \"stepsons\", \"guy\", \"spokesman\", \"spokesmen\", \"pa\", \"dude\", \"dudes\", \"paternal\", \"brotherhood\", \"countryman\", \"countrymen\", \"suitor\", \"macho\", \"papa\", \"strongman\", \"strongmen\", \"boyhood\", \"manhood\", \"masculine\", \"macho\", \"horsemen\", \"brethren\", \"chap\", \"chaps\", \"schoolboy\", \"schoolboys\", \"bloke\", \"blokes\", \"patriarch\", \"patriachy\", \"fatherhood\", \"hubby\", \"hubbies\", \"fella\", \"fellas\",\"fraternal\", \"bro\", \"masculinity\", \"pappy\", \"papi\", \"pappies\", \"dada\", \"bf\", \"bfs\", \"knights\", \"knight\", \"menfolk\", \"brotherly\", \"manly\", \"pimp\", \"pimps\", \"homeboy\", \"homeboys\", \"grandnephew\", \"grandnephew\", \"grand-nephew\", \"grand-nephews\", \"nobleman\", \"noblemen\", \"dream boy\", \"himself\", \"gramps\"]\n",
    "female_words = [\"niece\", \"mother\", \"duchesses\", \"mom\", \"belle\", \"belles\", \"mummies\",  \"grandmother\", \"landlady\", \"landladies\", \"nuns\", \"stepdaughter\", \"women\", \"daughter-in-law\", \"daughter\", \"queens\", \"brides\", \"lady\", \"queen\", \"matron\",  \"mummy\", \"madam\", \"granddaughter\", \"grand-daughter\", \"moms\", \"princess\", \"stepmothers\", \"stepdaughters\", \"girlfriend\", \"females\", \"grand-mothers\", \"grandmothers\", \"step-daughter\", \"nieces\", \"wife\", \"mother\", \"wives\", \"girl\", \"duchess\", \"madams\", \"mamas\", \"aunt\", \"princesses\", \"fiancee\", \"mrs\", \"ladies\", \"mother-in-law\", \"bride\", \"daughters-in-law\", \"aunts\", \"sister\", \"grandma\", \"grandmas\", \"female\", \"granddaughters\", \"grand-daughters\", \"girls\", \"she\", \"stepmother\", \"stepmother\", \"mrs.\", \"sisters\", \"mama\", \"woman\", \"daughters\", \"girlfriends\", \"she’s\", \"her\", \"maid\", \"mum\", \"maiden\", \"maidens\", \"dudette\", \"maternal\", \"sisterhood\", \"housewife\", \"housewives\", \"chick\", \"chicks\", \"mommy\", \"babe\", \"babes\", \"diva\", \"divas\", \"gal\", \"gals\", \"sistren\", \"schoolgirl\", \"schoolgirls\", \"matriarch\", \"matriarchy\", \"motherhood\", \"wifey\", \"sis\", \"femininity\", \"granny\", \"grannies\", \"mami\", \"momma\", \"gf\", \"gfs\", \"damsel\", \"damsels\", \"vixen\", \"vixens\", \"nan\", \"nanny\", \"nannies\", \"auntie\", \"womenfolk\", \"sisterly\", \"motherly\", \"homegirl\", \"homegirls\", \"grand-niece\", \"grand-nieces\", \"grandniece\", \"grandnieces\", \"dream girl\", \"madame\", \"herself\", \"hers\"]\n",
    "\n",
    "# create 2 empty list to store the words that are present in the male and female model\n",
    "male = []\n",
    "female = []\n",
    "\n",
    "# in this for loop I walk through the lists, and if the words of those lists are in the dataset\n",
    "# then I store them in the male and female lists which will be used for my mean word embeddings later.\n",
    "for word in male_words:\n",
    "    if word in female_model.wv:\n",
    "        if word in male_model.wv:\n",
    "            male.append(word)\n",
    "            \n",
    "for word in female_words:\n",
    "    if word in female_model.wv:\n",
    "        if word in male_model.wv:\n",
    "            female.append(word)\n"
   ]
  },
  {
   "cell_type": "code",
   "execution_count": 9,
   "id": "0acbaf0c",
   "metadata": {},
   "outputs": [],
   "source": [
    "# I created these two functions to calculate the distances and to calculate the means\n",
    "\n",
    "def get_distance(word1, word2, model):\n",
    "    # word1 is the word to be compared and word2 is already in vector form\n",
    "    \n",
    "    # create word vector\n",
    "    word_1 = model.wv[word1]\n",
    "    word_2 = model.wv[word2]\n",
    "    \n",
    "    # calculate the distance\n",
    "    distance = np.linalg.norm(np.subtract(word_1, word_2))\n",
    "    \n",
    "    # return the distance\n",
    "    return(distance)\n",
    "\n",
    "def get_mean(list):\n",
    "    # this function creates the mean of a list of distances\n",
    "    average = sum(list) / len(list)\n",
    "    return(average)"
   ]
  },
  {
   "cell_type": "code",
   "execution_count": 11,
   "id": "5c5b6294",
   "metadata": {},
   "outputs": [],
   "source": [
    "# create 2 empty dicts to store biases per category\n",
    "all_biases_female = dict()\n",
    "average_bias_female = dict()\n",
    "abf = dict()\n",
    "tuples = []\n",
    "\n",
    "# for column name in all category columns\n",
    "for l in range(len(sets)):\n",
    "    diss_f = []\n",
    "    diss_m = []\n",
    "    all_biases_female[\"{}\".format(terms[l])] = {}\n",
    "    average_bias_female[\"{}\".format(terms[l])] = {}\n",
    "    for word in sets[l]:\n",
    "        all_biases_female[\"{}\".format(terms[l])][\"{}\".format(word)] = {}\n",
    "        if word in female_model.wv:\n",
    "            # get the distances from the word we are looping in to the male&female embeddings\n",
    "            dis_female = statistics.mean([get_distance(word, w, female_model) for w in female])\n",
    "            dis_male = statistics.mean([get_distance(word, w, female_model) for w in male])\n",
    "            #bias = dis_female - dis_male\n",
    "            \n",
    "            # create dicts\n",
    "            all_biases_female[\"{}\".format(terms[l])][\"{}\".format(word)]['female'] = dis_female\n",
    "            all_biases_female[\"{}\".format(terms[l])][\"{}\".format(word)]['male'] = dis_male\n",
    "            #all_biases_female[\"{}\".format(terms[l])][\"{}\".format(word)]['bias'] = bias\n",
    "            \n",
    "            # create means per categories\n",
    "            diss_f.append(dis_female)\n",
    "            diss_m.append(dis_male)\n",
    "        \n",
    "        average_bias_female[\"{}\".format(terms[l])]['female'] = statistics.mean(diss_f)\n",
    "        average_bias_female[\"{}\".format(terms[l])]['male'] = statistics.mean(diss_m)\n",
    "        #average_bias_female[\"{}\".format(terms[l])]['bias'] = (statistics.mean(biases_f)) - (statistics.mean(biases_m))\n",
    "        #abf[\"{}\".format(terms[l])] = (statistics.mean(biases_f)) - (statistics.mean(biases_m))"
   ]
  },
  {
   "cell_type": "code",
   "execution_count": 12,
   "id": "49bd34ca",
   "metadata": {},
   "outputs": [],
   "source": [
    "# create 2 empty dicts to store biases per category\n",
    "all_biases_male = dict()\n",
    "average_bias_male = dict()\n",
    "tuples = []\n",
    "abm = dict()\n",
    "\n",
    "# for column name in all category columns\n",
    "for l in range(len(sets)):\n",
    "    biases_f = [0]\n",
    "    biases_m = [0]\n",
    "    all_biases_male[\"{}\".format(terms[l])] = {}\n",
    "    average_bias_male[\"{}\".format(terms[l])] = {}\n",
    "    for word in sets[l]:\n",
    "        all_biases_male[\"{}\".format(terms[l])][\"{}\".format(word)] = {}\n",
    "        if word in male_model.wv:\n",
    "            # get the distances from the word we are looping in to the male&female embeddings\n",
    "            dis_female = statistics.mean([get_distance(word, w, male_model) for w in female])\n",
    "            dis_male = statistics.mean([get_distance(word, w, male_model) for w in male])\n",
    "            bias = dis_female - dis_male\n",
    "            \n",
    "            # create dicts\n",
    "            all_biases_male[\"{}\".format(terms[l])][\"{}\".format(word)]['female'] = dis_female\n",
    "            all_biases_male[\"{}\".format(terms[l])][\"{}\".format(word)]['male'] = dis_male\n",
    "            all_biases_male[\"{}\".format(terms[l])][\"{}\".format(word)]['bias'] = bias\n",
    "            \n",
    "            # create means per categories\n",
    "            biases_f.append(dis_female)\n",
    "            biases_m.append(dis_male)\n",
    "        \n",
    "    average_bias_male[\"{}\".format(terms[l])]['female'] = statistics.mean(biases_f)\n",
    "    average_bias_male[\"{}\".format(terms[l])]['male'] = statistics.mean(biases_m)\n",
    "    average_bias_male[\"{}\".format(terms[l])]['bias'] = (statistics.mean(biases_f)) - (statistics.mean(biases_m))\n",
    "    abm[\"{}\".format(terms[l])] = (statistics.mean(biases_f)) - (statistics.mean(biases_m))"
   ]
  },
  {
   "cell_type": "code",
   "execution_count": 13,
   "id": "2b5cdd0c",
   "metadata": {},
   "outputs": [
    {
     "data": {
      "text/plain": [
       "{'physical_appearance': {'female': 3.2745423, 'male': 3.1872048},\n",
       " 'intellect_education': {'female': 3.5304909, 'male': 3.4362595},\n",
       " 'emotionality_state_of_mind': {'female': 3.2631476, 'male': 3.1831155},\n",
       " 'physical_state_condition': {'female': 3.1434474, 'male': 3.0635357},\n",
       " 'personality_traits': {'female': 3.3362815, 'male': 3.240549},\n",
       " 'age': {'female': 3.2156224, 'male': 3.15164},\n",
       " 'rela_gender_status': {'female': 3.2459044, 'male': 3.1685677}}"
      ]
     },
     "execution_count": 13,
     "metadata": {},
     "output_type": "execute_result"
    }
   ],
   "source": [
    "average_bias_female"
   ]
  },
  {
   "cell_type": "code",
   "execution_count": 14,
   "id": "705c3708",
   "metadata": {},
   "outputs": [
    {
     "data": {
      "text/plain": [
       "{'physical_appearance': {'female': 3.5791686,\n",
       "  'male': 3.629499,\n",
       "  'bias': -0.0503304},\n",
       " 'intellect_education': {'female': 3.9235013,\n",
       "  'male': 3.9480867,\n",
       "  'bias': -0.024585485},\n",
       " 'emotionality_state_of_mind': {'female': 3.6348393,\n",
       "  'male': 3.6718378,\n",
       "  'bias': -0.03699851},\n",
       " 'physical_state_condition': {'female': 3.501109,\n",
       "  'male': 3.5627482,\n",
       "  'bias': -0.06163931},\n",
       " 'personality_traits': {'female': 3.7732775,\n",
       "  'male': 3.7989738,\n",
       "  'bias': -0.025696278},\n",
       " 'age': {'female': 3.4342175, 'male': 3.5200825, 'bias': -0.08586502},\n",
       " 'rela_gender_status': {'female': 3.2811165,\n",
       "  'male': 3.3492243,\n",
       "  'bias': -0.06810784}}"
      ]
     },
     "execution_count": 14,
     "metadata": {},
     "output_type": "execute_result"
    }
   ],
   "source": [
    "average_bias_male"
   ]
  },
  {
   "cell_type": "code",
   "execution_count": 17,
   "id": "739a6fe4",
   "metadata": {},
   "outputs": [],
   "source": [
    "# create all the biases per adjective in a dataframe\n",
    "df_female = pd.concat({k: pd.DataFrame(v).T for k, v in all_biases_female.items()}, axis=0).reset_index()\n",
    "df_male = pd.concat({k: pd.DataFrame(v).T for k, v in all_biases_male.items()}, axis=0).reset_index()"
   ]
  },
  {
   "cell_type": "code",
   "execution_count": 20,
   "id": "45955ed0",
   "metadata": {},
   "outputs": [
    {
     "data": {
      "text/html": [
       "<div>\n",
       "<style scoped>\n",
       "    .dataframe tbody tr th:only-of-type {\n",
       "        vertical-align: middle;\n",
       "    }\n",
       "\n",
       "    .dataframe tbody tr th {\n",
       "        vertical-align: top;\n",
       "    }\n",
       "\n",
       "    .dataframe thead th {\n",
       "        text-align: right;\n",
       "    }\n",
       "</style>\n",
       "<table border=\"1\" class=\"dataframe\">\n",
       "  <thead>\n",
       "    <tr style=\"text-align: right;\">\n",
       "      <th></th>\n",
       "      <th>level_0</th>\n",
       "      <th>level_1</th>\n",
       "      <th>female</th>\n",
       "      <th>male</th>\n",
       "      <th>bias</th>\n",
       "    </tr>\n",
       "  </thead>\n",
       "  <tbody>\n",
       "    <tr>\n",
       "      <th>0</th>\n",
       "      <td>physical_appearance</td>\n",
       "      <td>appealing</td>\n",
       "      <td>3.858027</td>\n",
       "      <td>3.860131</td>\n",
       "      <td>-0.002104</td>\n",
       "    </tr>\n",
       "    <tr>\n",
       "      <th>1</th>\n",
       "      <td>physical_appearance</td>\n",
       "      <td>beautiful</td>\n",
       "      <td>4.174464</td>\n",
       "      <td>4.252733</td>\n",
       "      <td>-0.078269</td>\n",
       "    </tr>\n",
       "    <tr>\n",
       "      <th>2</th>\n",
       "      <td>physical_appearance</td>\n",
       "      <td>fashionable</td>\n",
       "      <td>3.761518</td>\n",
       "      <td>3.724555</td>\n",
       "      <td>0.036963</td>\n",
       "    </tr>\n",
       "    <tr>\n",
       "      <th>3</th>\n",
       "      <td>physical_appearance</td>\n",
       "      <td>exquisite</td>\n",
       "      <td>2.671820</td>\n",
       "      <td>2.739141</td>\n",
       "      <td>-0.067321</td>\n",
       "    </tr>\n",
       "    <tr>\n",
       "      <th>4</th>\n",
       "      <td>physical_appearance</td>\n",
       "      <td>unsightly</td>\n",
       "      <td>3.224457</td>\n",
       "      <td>3.341939</td>\n",
       "      <td>-0.117482</td>\n",
       "    </tr>\n",
       "    <tr>\n",
       "      <th>5</th>\n",
       "      <td>physical_appearance</td>\n",
       "      <td>obese</td>\n",
       "      <td>4.397303</td>\n",
       "      <td>4.480093</td>\n",
       "      <td>-0.082791</td>\n",
       "    </tr>\n",
       "    <tr>\n",
       "      <th>6</th>\n",
       "      <td>physical_appearance</td>\n",
       "      <td>overweight</td>\n",
       "      <td>3.661574</td>\n",
       "      <td>3.793996</td>\n",
       "      <td>-0.132422</td>\n",
       "    </tr>\n",
       "  </tbody>\n",
       "</table>\n",
       "</div>"
      ],
      "text/plain": [
       "               level_0      level_1    female      male      bias\n",
       "0  physical_appearance    appealing  3.858027  3.860131 -0.002104\n",
       "1  physical_appearance    beautiful  4.174464  4.252733 -0.078269\n",
       "2  physical_appearance  fashionable  3.761518  3.724555  0.036963\n",
       "3  physical_appearance    exquisite  2.671820  2.739141 -0.067321\n",
       "4  physical_appearance    unsightly  3.224457  3.341939 -0.117482\n",
       "5  physical_appearance        obese  4.397303  4.480093 -0.082791\n",
       "6  physical_appearance   overweight  3.661574  3.793996 -0.132422"
      ]
     },
     "execution_count": 20,
     "metadata": {},
     "output_type": "execute_result"
    }
   ],
   "source": [
    "df_male.head(7)"
   ]
  },
  {
   "cell_type": "code",
   "execution_count": 21,
   "id": "1a3ae9a1",
   "metadata": {},
   "outputs": [
    {
     "data": {
      "text/plain": [
       "[3.8580269813537598,\n",
       " 4.174464225769043,\n",
       " 3.7615184783935547,\n",
       " 2.6718204021453857,\n",
       " 3.224456787109375]"
      ]
     },
     "execution_count": 21,
     "metadata": {},
     "output_type": "execute_result"
    }
   ],
   "source": [
    "# example of what the physical appearance distances look like in the male dataset to female words\n",
    "list(df_male[df_male['level_0']=='physical_appearance']['female'])[:5]"
   ]
  },
  {
   "cell_type": "code",
   "execution_count": 22,
   "id": "9a9ea436",
   "metadata": {},
   "outputs": [],
   "source": [
    "# add all distances to lists to compare\n",
    "list_fsf = []\n",
    "list_fsm = []\n",
    "list_msf = []\n",
    "list_msm = []\n",
    "\n",
    "# this loops through all the unique level_0 (so the categories Physical_appearance etc)\n",
    "# then per category, it stores all values in a list. That list is added to\n",
    "# the empty lists created above.\n",
    "for i in df_male['level_0'].unique():\n",
    "    list_fsf.append(list(df_female[df_female['level_0']==i]['female']))\n",
    "    list_fsm.append(list(df_female[df_female['level_0']==i]['male']))\n",
    "    list_msf.append(list(df_male[df_male['level_0']==i]['female']))\n",
    "    list_msm.append(list(df_male[df_male['level_0']==i]['male']))\n",
    "  "
   ]
  },
  {
   "cell_type": "code",
   "execution_count": 23,
   "id": "c7ea1c5e",
   "metadata": {},
   "outputs": [],
   "source": [
    "cat_f = []\n",
    "fem_f = []\n",
    "fem_m = []\n",
    "\n",
    "# add average biases to list to create barplots for the thesis\n",
    "for k, i in average_bias_female.items():\n",
    "    cat_f.append(k)\n",
    "    fem_f.append(i['female'])\n",
    "    fem_m.append(i['male'])"
   ]
  },
  {
   "cell_type": "code",
   "execution_count": 24,
   "id": "3fe81d9c",
   "metadata": {},
   "outputs": [],
   "source": [
    "cat_m = []\n",
    "mal_f = []\n",
    "mal_m = []\n",
    "\n",
    "\n",
    "# add average biases to list to create barplots for the thesis\n",
    "for k, i in average_bias_male.items():\n",
    "    cat_m.append(k)\n",
    "    mal_f.append(i['female'])\n",
    "    mal_m.append(i['male'])"
   ]
  },
  {
   "cell_type": "code",
   "execution_count": 26,
   "id": "a1d64419",
   "metadata": {},
   "outputs": [
    {
     "data": {
      "text/plain": [
       "[3.1872048, 3.4362595, 3.1831155, 3.0635357, 3.240549, 3.15164, 3.1685677]"
      ]
     },
     "execution_count": 26,
     "metadata": {},
     "output_type": "execute_result"
    }
   ],
   "source": [
    "# female dataset, average distances to male words\n",
    "fem_m"
   ]
  },
  {
   "cell_type": "markdown",
   "id": "b98ebc78",
   "metadata": {},
   "source": [
    "## Mann Whitney distances test"
   ]
  },
  {
   "cell_type": "code",
   "execution_count": 27,
   "id": "fe5687df",
   "metadata": {},
   "outputs": [
    {
     "name": "stdout",
     "output_type": "stream",
     "text": [
      "0.0030702954128993664\n"
     ]
    }
   ],
   "source": [
    "from scipy.stats import mannwhitneyu\n",
    "U1, p = mannwhitneyu(list_fsf[0], list_msf[0])\n",
    "print(p)"
   ]
  },
  {
   "cell_type": "code",
   "execution_count": 28,
   "id": "7636682c",
   "metadata": {},
   "outputs": [
    {
     "name": "stdout",
     "output_type": "stream",
     "text": [
      "physical_appearance MannwhitneyuResult(statistic=1792.0, pvalue=0.0030702954128993664)\n",
      "intellect_education MannwhitneyuResult(statistic=4852.0, pvalue=5.872456497505575e-07)\n",
      "emotionality_state_of_mind MannwhitneyuResult(statistic=7101.0, pvalue=4.116297242314055e-07)\n",
      "physical_state_condition MannwhitneyuResult(statistic=1364.0, pvalue=0.0012427498856331268)\n",
      "personality_traits MannwhitneyuResult(statistic=20792.0, pvalue=1.0138303668438618e-11)\n",
      "age MannwhitneyuResult(statistic=1789.0, pvalue=0.01148027641241006)\n",
      "rela_gender_status MannwhitneyuResult(statistic=84.0, pvalue=0.2675322272391032)\n"
     ]
    }
   ],
   "source": [
    "# test significancy for female terms\n",
    "for i in range(len(list_fsf)):\n",
    "    print(terms[i], mannwhitneyu(list_fsf[i], list_msf[i]))"
   ]
  },
  {
   "cell_type": "code",
   "execution_count": 29,
   "id": "ecc3553b",
   "metadata": {},
   "outputs": [
    {
     "name": "stdout",
     "output_type": "stream",
     "text": [
      "physical_appearance MannwhitneyuResult(statistic=1576.0, pvalue=0.00013612145507567268)\n",
      "intellect_education MannwhitneyuResult(statistic=4124.0, pvalue=3.536064444782137e-10)\n",
      "emotionality_state_of_mind MannwhitneyuResult(statistic=6156.0, pvalue=2.192557429235609e-10)\n",
      "physical_state_condition MannwhitneyuResult(statistic=1175.0, pvalue=3.952384652217505e-05)\n",
      "personality_traits MannwhitneyuResult(statistic=18235.0, pvalue=6.802362127734899e-17)\n",
      "age MannwhitneyuResult(statistic=1604.0, pvalue=0.0010375401639329213)\n",
      "rela_gender_status MannwhitneyuResult(statistic=72.0, pvalue=0.1206656211132241)\n"
     ]
    }
   ],
   "source": [
    "# test significancy for male terms\n",
    "for i in range(len(list_fsf)):\n",
    "    print(terms[i], mannwhitneyu(list_fsm[i], list_msm[i]))"
   ]
  },
  {
   "cell_type": "markdown",
   "id": "4aace780",
   "metadata": {},
   "source": [
    " ## Plots average embedding distances"
   ]
  },
  {
   "cell_type": "code",
   "execution_count": 30,
   "id": "5c8a003e",
   "metadata": {},
   "outputs": [
    {
     "data": {
      "text/plain": [
       "[3.2745423, 3.5304909, 3.2631476, 3.1434474, 3.3362815, 3.2156224, 3.2459044]"
      ]
     },
     "execution_count": 30,
     "metadata": {},
     "output_type": "execute_result"
    }
   ],
   "source": [
    "fem_f"
   ]
  },
  {
   "cell_type": "code",
   "execution_count": 31,
   "id": "7c99ade7",
   "metadata": {},
   "outputs": [
    {
     "data": {
      "text/plain": [
       "[3.5791686, 3.9235013, 3.6348393, 3.501109, 3.7732775, 3.4342175, 3.2811165]"
      ]
     },
     "execution_count": 31,
     "metadata": {},
     "output_type": "execute_result"
    }
   ],
   "source": [
    "mal_f"
   ]
  },
  {
   "cell_type": "code",
   "execution_count": 34,
   "id": "ca2c2cf3",
   "metadata": {},
   "outputs": [
    {
     "data": {
      "image/png": "[encoded data removed]",
      "text/plain": [
       "<Figure size 432x288 with 1 Axes>"
      ]
     },
     "metadata": {
      "needs_background": "light"
     },
     "output_type": "display_data"
    }
   ],
   "source": [
    "import matplotlib.pyplot as plt\n",
    "X = ['Phys_App', 'Intel_Edu', 'Emo_State', 'Phys_State', 'Perso_Traits', 'Age', 'Rela_Status']\n",
    "Ygirls = fem_f\n",
    "Zboys = mal_f\n",
    "  \n",
    "X_axis = np.arange(len(X))\n",
    "  \n",
    "plt.bar(X_axis - 0.2, Ygirls, 0.4, label = 'FSD')\n",
    "plt.bar(X_axis + 0.2, Zboys, 0.4, label = 'MSD')\n",
    "  \n",
    "plt.xticks(X_axis, X)\n",
    "plt.xticks(rotation=45)\n",
    "plt.ylim(2.7, 4.1)  \n",
    "plt.legend()\n",
    "plt.show()"
   ]
  },
  {
   "cell_type": "code",
   "execution_count": 35,
   "id": "1bf863ca",
   "metadata": {},
   "outputs": [
    {
     "data": {
      "image/png": "[encoded data removed]",
      "text/plain": [
       "<Figure size 432x288 with 1 Axes>"
      ]
     },
     "metadata": {
      "needs_background": "light"
     },
     "output_type": "display_data"
    }
   ],
   "source": [
    "X = ['Phys_App', 'Intel_Edu', 'Emo_State', 'Phys_State', 'Perso_Traits', 'Age', 'Rela_Status']\n",
    "Ygirls = fem_m\n",
    "Zboys = mal_m\n",
    "  \n",
    "X_axis = np.arange(len(X))\n",
    "  \n",
    "plt.bar(X_axis - 0.2, Ygirls, 0.4, label = 'FSD')\n",
    "plt.bar(X_axis + 0.2, Zboys, 0.4, label = 'MSD')\n",
    "  \n",
    "plt.xticks(X_axis, X)\n",
    "plt.xticks(rotation=45)\n",
    "plt.ylim(2, 4.1)  \n",
    "plt.legend()\n",
    "plt.show()"
   ]
  },
  {
   "cell_type": "markdown",
   "id": "4c8f9b86",
   "metadata": {},
   "source": [
    "# Frequency plots for the thesis"
   ]
  },
  {
   "cell_type": "markdown",
   "id": "d4098ada",
   "metadata": {},
   "source": [
    "## to describe females"
   ]
  },
  {
   "cell_type": "code",
   "execution_count": 37,
   "id": "8d881984",
   "metadata": {},
   "outputs": [
    {
     "data": {
      "image/png": "[encoded data removed]",
      "text/plain": [
       "<Figure size 432x288 with 1 Axes>"
      ]
     },
     "metadata": {
      "needs_background": "light"
     },
     "output_type": "display_data"
    }
   ],
   "source": [
    "import numpy as np \n",
    "import matplotlib.pyplot as plt \n",
    "\n",
    "X = ['brilliant', 'stupid', 'passionate', 'succesful']\n",
    "\n",
    "fs = [17, 10, 10, 5]\n",
    "ms = [22, 6, 11, 13]\n",
    "\n",
    "fem = [item/58758 for item in fs]\n",
    "mal = [item/95627 for item in ms]\n",
    "\n",
    "X_axis = np.arange(len(X))\n",
    "  \n",
    "plt.bar(X_axis - 0.2, fem, 0.4, label = 'FS')\n",
    "plt.bar(X_axis + 0.2, mal, 0.4, label = 'MS')\n",
    "  \n",
    "plt.xticks(X_axis, X)\n",
    "plt.legend()\n",
    "plt.show()"
   ]
  },
  {
   "cell_type": "code",
   "execution_count": 38,
   "id": "cd312985",
   "metadata": {},
   "outputs": [
    {
     "data": {
      "image/png": "[encoded data removed]",
      "text/plain": [
       "<Figure size 432x288 with 1 Axes>"
      ]
     },
     "metadata": {
      "needs_background": "light"
     },
     "output_type": "display_data"
    }
   ],
   "source": [
    "import numpy as np \n",
    "import matplotlib.pyplot as plt \n",
    "\n",
    "X = ['disabled', 'strong', 'ill']\n",
    "\n",
    "fs = [44, 18, 8]\n",
    "ms = [16, 16, 4]\n",
    "\n",
    "fem = [item/58758 for item in fs]\n",
    "mal = [item/95627 for item in ms]\n",
    "\n",
    "X_axis = np.arange(len(X))\n",
    "  \n",
    "plt.bar(X_axis - 0.2, fem, 0.4, label = 'FS')\n",
    "plt.bar(X_axis + 0.2, mal, 0.4, label = 'MS')\n",
    "  \n",
    "plt.xticks(X_axis, X)\n",
    "plt.legend()\n",
    "plt.show()"
   ]
  },
  {
   "cell_type": "code",
   "execution_count": 39,
   "id": "e015e0f1",
   "metadata": {},
   "outputs": [
    {
     "data": {
      "image/png": "[encoded data removed]",
      "text/plain": [
       "<Figure size 432x288 with 1 Axes>"
      ]
     },
     "metadata": {
      "needs_background": "light"
     },
     "output_type": "display_data"
    }
   ],
   "source": [
    "X = ['brave', 'passionate', 'independent', 'generous']\n",
    "\n",
    "fs = [30, 10, 7, 1]\n",
    "ms = [19, 11, 5, 9]\n",
    "\n",
    "fem = [item/58758 for item in fs]\n",
    "mal = [item/95627 for item in ms]\n",
    "\n",
    "X_axis = np.arange(len(X))\n",
    "  \n",
    "plt.bar(X_axis - 0.2, fem, 0.4, label = 'FS')\n",
    "plt.bar(X_axis + 0.2, mal, 0.4, label = 'MS')\n",
    "  \n",
    "plt.xticks(X_axis, X)\n",
    "plt.legend()\n",
    "plt.show()\n"
   ]
  },
  {
   "cell_type": "code",
   "execution_count": 40,
   "id": "3eeca5e4",
   "metadata": {},
   "outputs": [
    {
     "data": {
      "image/png": "[encoded data removed]",
      "text/plain": [
       "<Figure size 432x288 with 1 Axes>"
      ]
     },
     "metadata": {
      "needs_background": "light"
     },
     "output_type": "display_data"
    }
   ],
   "source": [
    "\n",
    "X = ['young', 'old', 'older']\n",
    "\n",
    "fs = [667, 181, 84]\n",
    "ms = [587, 233, 67]\n",
    "\n",
    "fem = [item/58758 for item in fs]\n",
    "mal = [item/95627 for item in ms]\n",
    "\n",
    "X_axis = np.arange(len(X))\n",
    "  \n",
    "plt.bar(X_axis - 0.2, fem, 0.4, label = 'FS')\n",
    "plt.bar(X_axis + 0.2, mal, 0.4, label = 'MS')\n",
    "  \n",
    "plt.xticks(X_axis, X)\n",
    "plt.legend()\n",
    "plt.show()\n"
   ]
  },
  {
   "cell_type": "code",
   "execution_count": 41,
   "id": "b31c61f8",
   "metadata": {},
   "outputs": [
    {
     "data": {
      "image/png": "[encoded data removed]",
      "text/plain": [
       "<Figure size 432x288 with 1 Axes>"
      ]
     },
     "metadata": {
      "needs_background": "light"
     },
     "output_type": "display_data"
    }
   ],
   "source": [
    "\n",
    "X = ['single', 'married', 'widowed']\n",
    "\n",
    "fs = [86, 11, 5]\n",
    "ms = [61, 17, 3]\n",
    "\n",
    "fem = [item/58758 for item in fs]\n",
    "mal = [item/95627 for item in ms]\n",
    "\n",
    "X_axis = np.arange(len(X))\n",
    "  \n",
    "plt.bar(X_axis - 0.2, fem, 0.4, label = 'FS')\n",
    "plt.bar(X_axis + 0.2, mal, 0.4, label = 'MS')\n",
    "  \n",
    "plt.xticks(X_axis, X)\n",
    "plt.legend()\n",
    "plt.show()\n"
   ]
  },
  {
   "cell_type": "markdown",
   "id": "2aea11d5",
   "metadata": {},
   "source": [
    "## to describe males"
   ]
  },
  {
   "cell_type": "code",
   "execution_count": 42,
   "id": "0f3ca14a",
   "metadata": {},
   "outputs": [
    {
     "data": {
      "image/png": "[encoded data removed]",
      "text/plain": [
       "<Figure size 432x288 with 1 Axes>"
      ]
     },
     "metadata": {
      "needs_background": "light"
     },
     "output_type": "display_data"
    }
   ],
   "source": [
    "\n",
    "X = ['dedicated', 'wise', 'intelligent', 'clever']\n",
    "\n",
    "fs = [15, 5, 4, 2]\n",
    "ms = [21, 24, 9, 18]\n",
    "\n",
    "fem = [item/79748 for item in fs]\n",
    "mal = [item/210328 for item in ms]\n",
    "\n",
    "X_axis = np.arange(len(X))\n",
    "  \n",
    "plt.bar(X_axis - 0.2, fem, 0.4, label = 'FS')\n",
    "plt.bar(X_axis + 0.2, mal, 0.4, label = 'MS')\n",
    "  \n",
    "plt.xticks(X_axis, X)\n",
    "plt.legend()\n",
    "plt.show()\n"
   ]
  },
  {
   "cell_type": "code",
   "execution_count": 43,
   "id": "33d13175",
   "metadata": {},
   "outputs": [
    {
     "data": {
      "image/png": "[encoded data removed]",
      "text/plain": [
       "<Figure size 432x288 with 1 Axes>"
      ]
     },
     "metadata": {
      "needs_background": "light"
     },
     "output_type": "display_data"
    }
   ],
   "source": [
    "\n",
    "X = ['disabled', 'sick', 'strong', 'ill']\n",
    "\n",
    "fs = [19, 10, 6, 4]\n",
    "ms = [15, 11, 25, 12]\n",
    "\n",
    "fem = [item/79748 for item in fs]\n",
    "mal = [item/210328 for item in ms]\n",
    "\n",
    "X_axis = np.arange(len(X))\n",
    "  \n",
    "plt.bar(X_axis - 0.2, fem, 0.4, label = 'FS')\n",
    "plt.bar(X_axis + 0.2, mal, 0.4, label = 'MS')\n",
    "  \n",
    "plt.xticks(X_axis, X)\n",
    "plt.legend()\n",
    "plt.show()\n"
   ]
  },
  {
   "cell_type": "code",
   "execution_count": 44,
   "id": "26bf4812",
   "metadata": {},
   "outputs": [
    {
     "data": {
      "image/png": "[encoded data removed]",
      "text/plain": [
       "<Figure size 432x288 with 1 Axes>"
      ]
     },
     "metadata": {
      "needs_background": "light"
     },
     "output_type": "display_data"
    }
   ],
   "source": [
    "\n",
    "X = ['young', 'old', 'teenage', ' older']\n",
    "\n",
    "fs = [435, 178, 28, 22]\n",
    "ms = [775, 285, 15, 30]\n",
    "\n",
    "fem = [item/79748 for item in fs]\n",
    "mal = [item/210328 for item in ms]\n",
    "\n",
    "X_axis = np.arange(len(X))\n",
    "  \n",
    "plt.bar(X_axis - 0.2, fem, 0.4, label = 'FS')\n",
    "plt.bar(X_axis + 0.2, mal, 0.4, label = 'MS')\n",
    "  \n",
    "plt.xticks(X_axis, X)\n",
    "plt.legend()\n",
    "plt.show()\n"
   ]
  },
  {
   "cell_type": "code",
   "execution_count": 45,
   "id": "d366f5e9",
   "metadata": {},
   "outputs": [
    {
     "data": {
      "image/png": "[encoded data removed]",
      "text/plain": [
       "<Figure size 432x288 with 1 Axes>"
      ]
     },
     "metadata": {
      "needs_background": "light"
     },
     "output_type": "display_data"
    }
   ],
   "source": [
    "\n",
    "X = ['brave', 'honourable', 'violent']\n",
    "\n",
    "fs = [46, 33, 17]\n",
    "ms = [46, 17, 12]\n",
    "\n",
    "fem = [item/79748 for item in fs]\n",
    "mal = [item/210328 for item in ms]\n",
    "\n",
    "X_axis = np.arange(len(X))\n",
    "  \n",
    "plt.bar(X_axis - 0.2, fem, 0.4, label = 'FS')\n",
    "plt.bar(X_axis + 0.2, mal, 0.4, label = 'MS')\n",
    "  \n",
    "plt.xticks(X_axis, X)\n",
    "plt.legend()\n",
    "plt.show()\n"
   ]
  }
 ],
 "metadata": {
  "kernelspec": {
   "display_name": "Python 3 (ipykernel)",
   "language": "python",
   "name": "python3"
  },
  "language_info": {
   "codemirror_mode": {
    "name": "ipython",
    "version": 3
   },
   "file_extension": ".py",
   "mimetype": "text/x-python",
   "name": "python",
   "nbconvert_exporter": "python",
   "pygments_lexer": "ipython3",
   "version": "3.9.6"
  }
 },
 "nbformat": 4,
 "nbformat_minor": 5
}
