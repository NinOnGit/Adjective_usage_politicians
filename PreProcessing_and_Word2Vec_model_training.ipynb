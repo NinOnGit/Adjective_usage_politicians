{
  "cells": [
    {
      "cell_type": "markdown",
      "source": [
        "# Loading and downloading packages"
      ],
      "metadata": {
        "id": "dJOLKlg9rUlK"
      },
      "id": "dJOLKlg9rUlK"
    },
    {
      "cell_type": "code",
      "execution_count": 1,
      "id": "4d965c30",
      "metadata": {
        "id": "4d965c30"
      },
      "outputs": [],
      "source": [
        "%%capture\n",
        "!pip install gender_guesser\n",
        "!pip install pyLDAvis"
      ]
    },
    {
      "cell_type": "code",
      "source": [
        "import pandas as pd\n",
        "\n",
        "import gender_guesser.detector as gender\n",
        "\n",
        "import pickle\n",
        "import pandas as pd\n",
        "import numpy as np\n",
        "import spacy \n",
        "import gensim\n",
        "import pyLDAvis\n",
        "import pyLDAvis.gensim_models as gensimvis\n",
        "from gensim.models import Word2Vec\n",
        "import matplotlib.pyplot as plt\n",
        "\n",
        "%matplotlib inline\n",
        "import tensorflow as tf\n",
        "import tensorflow_hub as hub\n",
        "\n",
        "from sklearn.manifold import TSNE\n",
        "#from tensorflow.examples.tutorials.mnist import input_data\n",
        "#from tensorflow.contrib.tensorboard.plugins import projector\n",
        "\n",
        "nlp = spacy.load(\"en_core_web_sm\")"
      ],
      "metadata": {
        "colab": {
          "base_uri": "https://localhost:8080/"
        },
        "id": "ySkCqLWo9QRx",
        "outputId": "bb0a5ed8-16c1-4bfc-94d4-bb19f9ca82a7"
      },
      "id": "ySkCqLWo9QRx",
      "execution_count": 4,
      "outputs": [
        {
          "output_type": "stream",
          "name": "stderr",
          "text": [
            "/usr/local/lib/python3.7/dist-packages/past/types/oldstr.py:5: DeprecationWarning: Using or importing the ABCs from 'collections' instead of from 'collections.abc' is deprecated since Python 3.3,and in 3.9 it will stop working\n",
            "  from collections import Iterable\n"
          ]
        }
      ]
    },
    {
      "cell_type": "code",
      "source": [
        "# connecting to my drive\n",
        "from google.colab import drive\n",
        "drive.mount('/content/drive')"
      ],
      "metadata": {
        "colab": {
          "base_uri": "https://localhost:8080/"
        },
        "id": "VA3SQA7pXbyk",
        "outputId": "9848e018-33db-425a-e86c-c039e7d905fc"
      },
      "id": "VA3SQA7pXbyk",
      "execution_count": 2,
      "outputs": [
        {
          "output_type": "stream",
          "name": "stdout",
          "text": [
            "Mounted at /content/drive\n"
          ]
        }
      ]
    },
    {
      "cell_type": "markdown",
      "id": "d8c54bac",
      "metadata": {
        "id": "d8c54bac"
      },
      "source": [
        "## Loading the data and some basic checks"
      ]
    },
    {
      "cell_type": "code",
      "execution_count": 6,
      "id": "54d86485",
      "metadata": {
        "colab": {
          "base_uri": "https://localhost:8080/"
        },
        "id": "54d86485",
        "outputId": "3201b6a9-34fb-4efe-9f27-7c2c8e523782"
      },
      "outputs": [
        {
          "output_type": "stream",
          "name": "stderr",
          "text": [
            "/usr/local/lib/python3.7/dist-packages/IPython/core/interactiveshell.py:2882: DtypeWarning: Columns (8,10,11,12,15,16,18) have mixed types.Specify dtype option on import or set low_memory=False.\n",
            "  exec(code_obj, self.user_global_ns, self.user_ns)\n"
          ]
        }
      ],
      "source": [
        "path = \"/content/drive/MyDrive/Thesis - Detecting Bias/Data Thesis/hansard-speeches-v310.csv\"\n",
        "df = pd.read_csv(path)"
      ]
    },
    {
      "cell_type": "code",
      "execution_count": 7,
      "id": "ed8d17d4",
      "metadata": {
        "id": "ed8d17d4",
        "outputId": "c2c09a8f-0b40-4671-ba6e-cee4a0c26855",
        "colab": {
          "base_uri": "https://localhost:8080/"
        }
      },
      "outputs": [
        {
          "output_type": "execute_result",
          "data": {
            "text/plain": [
              "2694375"
            ]
          },
          "metadata": {},
          "execution_count": 7
        }
      ],
      "source": [
        "len(df)"
      ]
    },
    {
      "cell_type": "code",
      "source": [
        "# only keep debates later than 2015\n",
        "df_sub = df[df.year >= 2015]"
      ],
      "metadata": {
        "id": "mOTMaKJeRq70"
      },
      "id": "mOTMaKJeRq70",
      "execution_count": 28,
      "outputs": []
    },
    {
      "cell_type": "code",
      "source": [
        "len(df_sub)"
      ],
      "metadata": {
        "colab": {
          "base_uri": "https://localhost:8080/"
        },
        "id": "ik5jELNzRzD6",
        "outputId": "a77a52ff-0ed0-4b2f-9dac-e62120be06e8"
      },
      "id": "ik5jELNzRzD6",
      "execution_count": 9,
      "outputs": [
        {
          "output_type": "execute_result",
          "data": {
            "text/plain": [
              "417154"
            ]
          },
          "metadata": {},
          "execution_count": 9
        }
      ]
    },
    {
      "cell_type": "markdown",
      "id": "bd13b2dc",
      "metadata": {
        "id": "bd13b2dc"
      },
      "source": [
        "## Some NaN cleaning"
      ]
    },
    {
      "cell_type": "code",
      "execution_count": 10,
      "id": "1430a01d",
      "metadata": {
        "id": "1430a01d",
        "outputId": "782904c9-8e07-4028-a18f-1e784871a547",
        "colab": {
          "base_uri": "https://localhost:8080/"
        }
      },
      "outputs": [
        {
          "output_type": "execute_result",
          "data": {
            "text/plain": [
              "id                            0\n",
              "speech                        0\n",
              "display_as                    0\n",
              "party                     16439\n",
              "constituency              16443\n",
              "mnis_id                   16439\n",
              "date                          0\n",
              "time                     108148\n",
              "colnum                        0\n",
              "speech_class                  0\n",
              "major_heading              2068\n",
              "minor_heading            182539\n",
              "oral_heading             417148\n",
              "year                          0\n",
              "hansard_membership_id    417154\n",
              "speakerid                399045\n",
              "person_id                 33878\n",
              "speakername                   0\n",
              "url                      337355\n",
              "dtype: int64"
            ]
          },
          "metadata": {},
          "execution_count": 10
        }
      ],
      "source": [
        "df_sub.isnull().sum()"
      ]
    },
    {
      "cell_type": "code",
      "source": [
        "df3 = df_sub[['speakername','speech','party']]\n",
        "df3.head(3)"
      ],
      "metadata": {
        "colab": {
          "base_uri": "https://localhost:8080/",
          "height": 143
        },
        "id": "CCZvdkrlSafL",
        "outputId": "1181a09f-cbaf-4a3a-bd8a-e57fa59e78cc"
      },
      "id": "CCZvdkrlSafL",
      "execution_count": 30,
      "outputs": [
        {
          "output_type": "execute_result",
          "data": {
            "text/plain": [
              "              speakername                                             speech  \\\n",
              "2277221           Unknown                The Secretary of State was asked —    \n",
              "2277222  Jennifer Willott  What progress her Department has made on imple...   \n",
              "2277223       Theresa May  The Government are on track to deliver their c...   \n",
              "\n",
              "                    party  \n",
              "2277221               NaN  \n",
              "2277222  Liberal Democrat  \n",
              "2277223      Conservative  "
            ],
            "text/html": [
              "\n",
              "  <div id=\"df-37103baa-6383-4d2f-a639-481b76e9d9ae\">\n",
              "    <div class=\"colab-df-container\">\n",
              "      <div>\n",
              "<style scoped>\n",
              "    .dataframe tbody tr th:only-of-type {\n",
              "        vertical-align: middle;\n",
              "    }\n",
              "\n",
              "    .dataframe tbody tr th {\n",
              "        vertical-align: top;\n",
              "    }\n",
              "\n",
              "    .dataframe thead th {\n",
              "        text-align: right;\n",
              "    }\n",
              "</style>\n",
              "<table border=\"1\" class=\"dataframe\">\n",
              "  <thead>\n",
              "    <tr style=\"text-align: right;\">\n",
              "      <th></th>\n",
              "      <th>speakername</th>\n",
              "      <th>speech</th>\n",
              "      <th>party</th>\n",
              "    </tr>\n",
              "  </thead>\n",
              "  <tbody>\n",
              "    <tr>\n",
              "      <th>2277221</th>\n",
              "      <td>Unknown</td>\n",
              "      <td>The Secretary of State was asked —</td>\n",
              "      <td>NaN</td>\n",
              "    </tr>\n",
              "    <tr>\n",
              "      <th>2277222</th>\n",
              "      <td>Jennifer Willott</td>\n",
              "      <td>What progress her Department has made on imple...</td>\n",
              "      <td>Liberal Democrat</td>\n",
              "    </tr>\n",
              "    <tr>\n",
              "      <th>2277223</th>\n",
              "      <td>Theresa May</td>\n",
              "      <td>The Government are on track to deliver their c...</td>\n",
              "      <td>Conservative</td>\n",
              "    </tr>\n",
              "  </tbody>\n",
              "</table>\n",
              "</div>\n",
              "      <button class=\"colab-df-convert\" onclick=\"convertToInteractive('df-37103baa-6383-4d2f-a639-481b76e9d9ae')\"\n",
              "              title=\"Convert this dataframe to an interactive table.\"\n",
              "              style=\"display:none;\">\n",
              "        \n",
              "  <svg xmlns=\"http://www.w3.org/2000/svg\" height=\"24px\"viewBox=\"0 0 24 24\"\n",
              "       width=\"24px\">\n",
              "    <path d=\"M0 0h24v24H0V0z\" fill=\"none\"/>\n",
              "    <path d=\"M18.56 5.44l.94 2.06.94-2.06 2.06-.94-2.06-.94-.94-2.06-.94 2.06-2.06.94zm-11 1L8.5 8.5l.94-2.06 2.06-.94-2.06-.94L8.5 2.5l-.94 2.06-2.06.94zm10 10l.94 2.06.94-2.06 2.06-.94-2.06-.94-.94-2.06-.94 2.06-2.06.94z\"/><path d=\"M17.41 7.96l-1.37-1.37c-.4-.4-.92-.59-1.43-.59-.52 0-1.04.2-1.43.59L10.3 9.45l-7.72 7.72c-.78.78-.78 2.05 0 2.83L4 21.41c.39.39.9.59 1.41.59.51 0 1.02-.2 1.41-.59l7.78-7.78 2.81-2.81c.8-.78.8-2.07 0-2.86zM5.41 20L4 18.59l7.72-7.72 1.47 1.35L5.41 20z\"/>\n",
              "  </svg>\n",
              "      </button>\n",
              "      \n",
              "  <style>\n",
              "    .colab-df-container {\n",
              "      display:flex;\n",
              "      flex-wrap:wrap;\n",
              "      gap: 12px;\n",
              "    }\n",
              "\n",
              "    .colab-df-convert {\n",
              "      background-color: #E8F0FE;\n",
              "      border: none;\n",
              "      border-radius: 50%;\n",
              "      cursor: pointer;\n",
              "      display: none;\n",
              "      fill: #1967D2;\n",
              "      height: 32px;\n",
              "      padding: 0 0 0 0;\n",
              "      width: 32px;\n",
              "    }\n",
              "\n",
              "    .colab-df-convert:hover {\n",
              "      background-color: #E2EBFA;\n",
              "      box-shadow: 0px 1px 2px rgba(60, 64, 67, 0.3), 0px 1px 3px 1px rgba(60, 64, 67, 0.15);\n",
              "      fill: #174EA6;\n",
              "    }\n",
              "\n",
              "    [theme=dark] .colab-df-convert {\n",
              "      background-color: #3B4455;\n",
              "      fill: #D2E3FC;\n",
              "    }\n",
              "\n",
              "    [theme=dark] .colab-df-convert:hover {\n",
              "      background-color: #434B5C;\n",
              "      box-shadow: 0px 1px 3px 1px rgba(0, 0, 0, 0.15);\n",
              "      filter: drop-shadow(0px 1px 2px rgba(0, 0, 0, 0.3));\n",
              "      fill: #FFFFFF;\n",
              "    }\n",
              "  </style>\n",
              "\n",
              "      <script>\n",
              "        const buttonEl =\n",
              "          document.querySelector('#df-37103baa-6383-4d2f-a639-481b76e9d9ae button.colab-df-convert');\n",
              "        buttonEl.style.display =\n",
              "          google.colab.kernel.accessAllowed ? 'block' : 'none';\n",
              "\n",
              "        async function convertToInteractive(key) {\n",
              "          const element = document.querySelector('#df-37103baa-6383-4d2f-a639-481b76e9d9ae');\n",
              "          const dataTable =\n",
              "            await google.colab.kernel.invokeFunction('convertToInteractive',\n",
              "                                                     [key], {});\n",
              "          if (!dataTable) return;\n",
              "\n",
              "          const docLinkHtml = 'Like what you see? Visit the ' +\n",
              "            '<a target=\"_blank\" href=https://colab.research.google.com/notebooks/data_table.ipynb>data table notebook</a>'\n",
              "            + ' to learn more about interactive tables.';\n",
              "          element.innerHTML = '';\n",
              "          dataTable['output_type'] = 'display_data';\n",
              "          await google.colab.output.renderOutput(dataTable, element);\n",
              "          const docLink = document.createElement('div');\n",
              "          docLink.innerHTML = docLinkHtml;\n",
              "          element.appendChild(docLink);\n",
              "        }\n",
              "      </script>\n",
              "    </div>\n",
              "  </div>\n",
              "  "
            ]
          },
          "metadata": {},
          "execution_count": 30
        }
      ]
    },
    {
      "cell_type": "markdown",
      "id": "c443984f",
      "metadata": {
        "id": "c443984f"
      },
      "source": [
        "## Check female vs male speakers"
      ]
    },
    {
      "cell_type": "code",
      "execution_count": 32,
      "id": "d6f6c338",
      "metadata": {
        "id": "d6f6c338",
        "outputId": "fcbb298e-0eb9-4da0-e40f-aac74656dacc",
        "colab": {
          "base_uri": "https://localhost:8080/",
          "height": 414
        }
      },
      "outputs": [
        {
          "output_type": "stream",
          "name": "stderr",
          "text": [
            "/usr/local/lib/python3.7/dist-packages/ipykernel_launcher.py:3: SettingWithCopyWarning: \n",
            "A value is trying to be set on a copy of a slice from a DataFrame.\n",
            "Try using .loc[row_indexer,col_indexer] = value instead\n",
            "\n",
            "See the caveats in the documentation: https://pandas.pydata.org/pandas-docs/stable/user_guide/indexing.html#returning-a-view-versus-a-copy\n",
            "  This is separate from the ipykernel package so we can avoid doing imports until\n",
            "/usr/local/lib/python3.7/dist-packages/ipykernel_launcher.py:4: SettingWithCopyWarning: \n",
            "A value is trying to be set on a copy of a slice from a DataFrame.\n",
            "Try using .loc[row_indexer,col_indexer] = value instead\n",
            "\n",
            "See the caveats in the documentation: https://pandas.pydata.org/pandas-docs/stable/user_guide/indexing.html#returning-a-view-versus-a-copy\n",
            "  after removing the cwd from sys.path.\n"
          ]
        },
        {
          "output_type": "execute_result",
          "data": {
            "text/plain": [
              "              speakername                                             speech  \\\n",
              "2277221           Unknown                The Secretary of State was asked —    \n",
              "2277222  Jennifer Willott  What progress her Department has made on imple...   \n",
              "2277223       Theresa May  The Government are on track to deliver their c...   \n",
              "2277224  Jennifer Willott  It is clear that exit checks, which were scrap...   \n",
              "2277225       Theresa May  As I indicated in my original answer, we are o...   \n",
              "\n",
              "                    party first_name   gender  \n",
              "2277221               NaN    Unknown  unknown  \n",
              "2277222  Liberal Democrat   Jennifer   female  \n",
              "2277223      Conservative    Theresa   female  \n",
              "2277224  Liberal Democrat   Jennifer   female  \n",
              "2277225      Conservative    Theresa   female  "
            ],
            "text/html": [
              "\n",
              "  <div id=\"df-257951ef-e711-4e1a-b291-58d862709ba1\">\n",
              "    <div class=\"colab-df-container\">\n",
              "      <div>\n",
              "<style scoped>\n",
              "    .dataframe tbody tr th:only-of-type {\n",
              "        vertical-align: middle;\n",
              "    }\n",
              "\n",
              "    .dataframe tbody tr th {\n",
              "        vertical-align: top;\n",
              "    }\n",
              "\n",
              "    .dataframe thead th {\n",
              "        text-align: right;\n",
              "    }\n",
              "</style>\n",
              "<table border=\"1\" class=\"dataframe\">\n",
              "  <thead>\n",
              "    <tr style=\"text-align: right;\">\n",
              "      <th></th>\n",
              "      <th>speakername</th>\n",
              "      <th>speech</th>\n",
              "      <th>party</th>\n",
              "      <th>first_name</th>\n",
              "      <th>gender</th>\n",
              "    </tr>\n",
              "  </thead>\n",
              "  <tbody>\n",
              "    <tr>\n",
              "      <th>2277221</th>\n",
              "      <td>Unknown</td>\n",
              "      <td>The Secretary of State was asked —</td>\n",
              "      <td>NaN</td>\n",
              "      <td>Unknown</td>\n",
              "      <td>unknown</td>\n",
              "    </tr>\n",
              "    <tr>\n",
              "      <th>2277222</th>\n",
              "      <td>Jennifer Willott</td>\n",
              "      <td>What progress her Department has made on imple...</td>\n",
              "      <td>Liberal Democrat</td>\n",
              "      <td>Jennifer</td>\n",
              "      <td>female</td>\n",
              "    </tr>\n",
              "    <tr>\n",
              "      <th>2277223</th>\n",
              "      <td>Theresa May</td>\n",
              "      <td>The Government are on track to deliver their c...</td>\n",
              "      <td>Conservative</td>\n",
              "      <td>Theresa</td>\n",
              "      <td>female</td>\n",
              "    </tr>\n",
              "    <tr>\n",
              "      <th>2277224</th>\n",
              "      <td>Jennifer Willott</td>\n",
              "      <td>It is clear that exit checks, which were scrap...</td>\n",
              "      <td>Liberal Democrat</td>\n",
              "      <td>Jennifer</td>\n",
              "      <td>female</td>\n",
              "    </tr>\n",
              "    <tr>\n",
              "      <th>2277225</th>\n",
              "      <td>Theresa May</td>\n",
              "      <td>As I indicated in my original answer, we are o...</td>\n",
              "      <td>Conservative</td>\n",
              "      <td>Theresa</td>\n",
              "      <td>female</td>\n",
              "    </tr>\n",
              "  </tbody>\n",
              "</table>\n",
              "</div>\n",
              "      <button class=\"colab-df-convert\" onclick=\"convertToInteractive('df-257951ef-e711-4e1a-b291-58d862709ba1')\"\n",
              "              title=\"Convert this dataframe to an interactive table.\"\n",
              "              style=\"display:none;\">\n",
              "        \n",
              "  <svg xmlns=\"http://www.w3.org/2000/svg\" height=\"24px\"viewBox=\"0 0 24 24\"\n",
              "       width=\"24px\">\n",
              "    <path d=\"M0 0h24v24H0V0z\" fill=\"none\"/>\n",
              "    <path d=\"M18.56 5.44l.94 2.06.94-2.06 2.06-.94-2.06-.94-.94-2.06-.94 2.06-2.06.94zm-11 1L8.5 8.5l.94-2.06 2.06-.94-2.06-.94L8.5 2.5l-.94 2.06-2.06.94zm10 10l.94 2.06.94-2.06 2.06-.94-2.06-.94-.94-2.06-.94 2.06-2.06.94z\"/><path d=\"M17.41 7.96l-1.37-1.37c-.4-.4-.92-.59-1.43-.59-.52 0-1.04.2-1.43.59L10.3 9.45l-7.72 7.72c-.78.78-.78 2.05 0 2.83L4 21.41c.39.39.9.59 1.41.59.51 0 1.02-.2 1.41-.59l7.78-7.78 2.81-2.81c.8-.78.8-2.07 0-2.86zM5.41 20L4 18.59l7.72-7.72 1.47 1.35L5.41 20z\"/>\n",
              "  </svg>\n",
              "      </button>\n",
              "      \n",
              "  <style>\n",
              "    .colab-df-container {\n",
              "      display:flex;\n",
              "      flex-wrap:wrap;\n",
              "      gap: 12px;\n",
              "    }\n",
              "\n",
              "    .colab-df-convert {\n",
              "      background-color: #E8F0FE;\n",
              "      border: none;\n",
              "      border-radius: 50%;\n",
              "      cursor: pointer;\n",
              "      display: none;\n",
              "      fill: #1967D2;\n",
              "      height: 32px;\n",
              "      padding: 0 0 0 0;\n",
              "      width: 32px;\n",
              "    }\n",
              "\n",
              "    .colab-df-convert:hover {\n",
              "      background-color: #E2EBFA;\n",
              "      box-shadow: 0px 1px 2px rgba(60, 64, 67, 0.3), 0px 1px 3px 1px rgba(60, 64, 67, 0.15);\n",
              "      fill: #174EA6;\n",
              "    }\n",
              "\n",
              "    [theme=dark] .colab-df-convert {\n",
              "      background-color: #3B4455;\n",
              "      fill: #D2E3FC;\n",
              "    }\n",
              "\n",
              "    [theme=dark] .colab-df-convert:hover {\n",
              "      background-color: #434B5C;\n",
              "      box-shadow: 0px 1px 3px 1px rgba(0, 0, 0, 0.15);\n",
              "      filter: drop-shadow(0px 1px 2px rgba(0, 0, 0, 0.3));\n",
              "      fill: #FFFFFF;\n",
              "    }\n",
              "  </style>\n",
              "\n",
              "      <script>\n",
              "        const buttonEl =\n",
              "          document.querySelector('#df-257951ef-e711-4e1a-b291-58d862709ba1 button.colab-df-convert');\n",
              "        buttonEl.style.display =\n",
              "          google.colab.kernel.accessAllowed ? 'block' : 'none';\n",
              "\n",
              "        async function convertToInteractive(key) {\n",
              "          const element = document.querySelector('#df-257951ef-e711-4e1a-b291-58d862709ba1');\n",
              "          const dataTable =\n",
              "            await google.colab.kernel.invokeFunction('convertToInteractive',\n",
              "                                                     [key], {});\n",
              "          if (!dataTable) return;\n",
              "\n",
              "          const docLinkHtml = 'Like what you see? Visit the ' +\n",
              "            '<a target=\"_blank\" href=https://colab.research.google.com/notebooks/data_table.ipynb>data table notebook</a>'\n",
              "            + ' to learn more about interactive tables.';\n",
              "          element.innerHTML = '';\n",
              "          dataTable['output_type'] = 'display_data';\n",
              "          await google.colab.output.renderOutput(dataTable, element);\n",
              "          const docLink = document.createElement('div');\n",
              "          docLink.innerHTML = docLinkHtml;\n",
              "          element.appendChild(docLink);\n",
              "        }\n",
              "      </script>\n",
              "    </div>\n",
              "  </div>\n",
              "  "
            ]
          },
          "metadata": {},
          "execution_count": 32
        }
      ],
      "source": [
        "d = gender.Detector()\n",
        "#df2['gender'] = d(df['speakername'])\n",
        "df3['first_name'] = df3['speakername'].str.split(' ').str[0]\n",
        "df3['gender'] = df3['first_name'].map(lambda x: d.get_gender(x))\n",
        "df3.head(5)"
      ]
    },
    {
      "cell_type": "code",
      "execution_count": 33,
      "id": "6bece51c",
      "metadata": {
        "id": "6bece51c",
        "outputId": "0048ffc0-1e4f-4ad5-8204-eff8596f65c1",
        "colab": {
          "base_uri": "https://localhost:8080/"
        }
      },
      "outputs": [
        {
          "output_type": "execute_result",
          "data": {
            "text/plain": [
              "male             255571\n",
              "female           101319\n",
              "unknown           28803\n",
              "mostly_male       17206\n",
              "mostly_female     10332\n",
              "andy               3923\n",
              "Name: gender, dtype: int64"
            ]
          },
          "metadata": {},
          "execution_count": 33
        }
      ],
      "source": [
        "df3['gender'].value_counts()"
      ]
    },
    {
      "cell_type": "code",
      "execution_count": 34,
      "id": "ee66fee3",
      "metadata": {
        "id": "ee66fee3"
      },
      "outputs": [],
      "source": [
        "df3_male = df3[df3['gender']=='male']\n",
        "df3_female = df3[df3['gender']=='female']"
      ]
    },
    {
      "cell_type": "markdown",
      "source": [
        "## Some exploring to extract adjectives"
      ],
      "metadata": {
        "id": "3oAcawqgfpMj"
      },
      "id": "3oAcawqgfpMj"
    },
    {
      "cell_type": "code",
      "source": [
        "male_words = [\"nephew\", \"nephews\", \"father\", \"dad\", \"daddies\", \"grandfather\", \"step-son\", \"step-sons\", \"men\", \"son-in-law\", \"king\", \"daddy\", \"son\", \"groom\", \"grooms\", \"gentleman\", \"gentlemen\", \"sir\", \"lad\", \"grandson\", \"grand-son\", \"dads\", \"prince\", \"stepfathers\", \"boyfriend\", \"males\", \"grandfathers\", \"grand-fathers\", \"husband\", \"husbands\", \"boy\", \"bachelor\", \"bachelors\", \"duke\", \"sirs\", \"papas\", \"heir\", \"uncle\", \"mr\", \"lords\", \"father-inlaw\", \"sons-in-law\", \"fiances\",\"fiance\", \"uncles\", \"lads\", \"brother\", \"grandpa\", \"grandpas\", \"heirs\", \"male\",  \"grandsons\", \"grandsons\", \"boys\", \"he\", \"step-father\", \"bridegroom\", \"bridegrooms stepfather\",  \"mr.\", \"brothers\", \"man\", \"sons\", \"boyfriends\", \"he’s\", \"his\", \"him\", \"stepson\", \"stepsons\", \"guy\", \"spokesman\", \"spokesmen\", \"pa\", \"dude\", \"dudes\", \"paternal\", \"brotherhood\", \"countryman\", \"countrymen\", \"suitor\", \"macho\", \"papa\", \"strongman\", \"strongmen\", \"boyhood\", \"manhood\", \"masculine\", \"macho\", \"horsemen\", \"brethren\", \"chap\", \"chaps\", \"schoolboy\", \"schoolboys\", \"bloke\", \"blokes\", \"patriarch\", \"patriachy\", \"fatherhood\", \"hubby\", \"hubbies\", \"fella\", \"fellas\",\"fraternal\", \"bro\", \"masculinity\", \"pappy\", \"papi\", \"pappies\", \"dada\", \"bf\", \"bfs\", \"knights\", \"knight\", \"menfolk\", \"brotherly\", \"manly\", \"pimp\", \"pimps\", \"homeboy\", \"homeboys\", \"grandnephew\", \"grandnephew\", \"grand-nephew\", \"grand-nephews\", \"nobleman\", \"noblemen\", \"dream boy\", \"himself\", \"gramps\"]\n",
        "female_words = [\"niece\", \"mother\", \"duchesses\", \"mom\", \"belle\", \"belles\", \"mummies\",  \"grandmother\", \"landlady\", \"landladies\", \"nuns\", \"stepdaughter\", \"women\", \"daughter-in-law\", \"daughter\", \"queens\", \"brides\", \"lady\", \"queen\", \"matron\",  \"mummy\", \"madam\", \"granddaughter\", \"grand-daughter\", \"moms\", \"princess\", \"stepmothers\", \"stepdaughters\", \"girlfriend\", \"females\", \"grand-mothers\", \"grandmothers\", \"step-daughter\", \"nieces\", \"wife\", \"mother\", \"wives\", \"girl\", \"duchess\", \"madams\", \"mamas\", \"aunt\", \"princesses\", \"fiancee\", \"mrs\", \"ladies\", \"mother-in-law\", \"bride\", \"daughters-in-law\", \"aunts\", \"sister\", \"grandma\", \"grandmas\", \"female\", \"granddaughters\", \"grand-daughters\", \"girls\", \"she\", \"stepmother\", \"stepmother\", \"mrs.\", \"sisters\", \"mama\", \"woman\", \"daughters\", \"girlfriends\", \"she’s\", \"her\", \"maid\", \"mum\", \"maiden\", \"maidens\", \"dudette\", \"maternal\", \"sisterhood\", \"housewife\", \"housewives\", \"chick\", \"chicks\", \"mommy\", \"babe\", \"babes\", \"diva\", \"divas\", \"gal\", \"gals\", \"sistren\", \"schoolgirl\", \"schoolgirls\", \"matriarch\", \"matriarchy\", \"motherhood\", \"wifey\", \"sis\", \"femininity\", \"granny\", \"grannies\", \"mami\", \"momma\", \"gf\", \"gfs\", \"damsel\", \"damsels\", \"vixen\", \"vixens\", \"nan\", \"nanny\", \"nannies\", \"auntie\", \"womenfolk\", \"sisterly\", \"motherly\", \"homegirl\", \"homegirls\", \"grand-niece\", \"grand-nieces\", \"grandniece\", \"grandnieces\", \"dream girl\", \"madame\", \"herself\", \"hers\"]\n"
      ],
      "metadata": {
        "id": "P9C5Oqidhqcd"
      },
      "id": "P9C5Oqidhqcd",
      "execution_count": 24,
      "outputs": []
    },
    {
      "cell_type": "code",
      "source": [
        "def adj_check(word):\n",
        "  doc = nlp(word)\n",
        "  if doc[0].pos_ == 'ADJ':\n",
        "    return(word)"
      ],
      "metadata": {
        "id": "qrj69X430lma"
      },
      "id": "qrj69X430lma",
      "execution_count": 25,
      "outputs": []
    },
    {
      "cell_type": "code",
      "source": [
        "# found on: https://albertauyeung.github.io/2018/06/03/generating-ngrams.html/\n",
        "import re\n",
        "\n",
        "def generate_ngrams(speech, n):\n",
        "  n_grams = []\n",
        "  for s in speech:\n",
        "    # Convert to lowercases\n",
        "    s = s.lower()\n",
        "    \n",
        "    # Replace all none alphanumeric characters with spaces\n",
        "    s = re.sub(r'[^a-zA-Z0-9\\s]', ' ', s)\n",
        "    \n",
        "    # Break sentence in the token, remove empty tokens\n",
        "    tokens = [token for token in s.split(\" \") if token != \"\"]\n",
        "    \n",
        "    # Use the zip function to help us generate n-grams\n",
        "    # Concatentate the tokens into ngrams and return\n",
        "    ngrams = zip(*[tokens[i:] for i in range(n)])\n",
        "    ngr = [\" \".join(ngram) for ngram in ngrams]\n",
        "    for x in ngr:\n",
        "      n_grams.append(x)\n",
        "\n",
        "  return(n_grams)"
      ],
      "metadata": {
        "id": "dUCpnQA0ichM"
      },
      "id": "dUCpnQA0ichM",
      "execution_count": 26,
      "outputs": []
    },
    {
      "cell_type": "markdown",
      "source": [
        "## Female speakers ngrams + adjectives"
      ],
      "metadata": {
        "id": "MGFakW1eFI66"
      },
      "id": "MGFakW1eFI66"
    },
    {
      "cell_type": "code",
      "source": [
        "n_grams_female = generate_ngrams(df3_female.speech, 2)"
      ],
      "metadata": {
        "id": "R_kqgFHPid9l"
      },
      "id": "R_kqgFHPid9l",
      "execution_count": 27,
      "outputs": []
    },
    {
      "cell_type": "code",
      "source": [
        "# m_fs refers to male_femalespeaker. Meaning the male ngrams in the female speeches are retrieved here\n",
        "ngram_m_fs = list((filter(lambda val: val if (val.split(\" \")[1] in male_words) else '', [ngram for ngram in n_grams_female] )))"
      ],
      "metadata": {
        "id": "ae7KBbQ5zbJQ"
      },
      "id": "ae7KBbQ5zbJQ",
      "execution_count": 35,
      "outputs": []
    },
    {
      "cell_type": "code",
      "source": [
        "# f_fs refers to female_femalespeaker. Meaning the female ngrams in the female speeches are retrieved here\n",
        "ngram_f_fs = list((filter(lambda val: val if (val.split(\" \")[1] in female_words) else '', [ngram for ngram in n_grams_female] )))"
      ],
      "metadata": {
        "id": "UqbLv2IoE9Ck"
      },
      "id": "UqbLv2IoE9Ck",
      "execution_count": 36,
      "outputs": []
    },
    {
      "cell_type": "markdown",
      "source": [
        "## Male speaker ngram + adjectives"
      ],
      "metadata": {
        "id": "Ry3zeN_WFTO_"
      },
      "id": "Ry3zeN_WFTO_"
    },
    {
      "cell_type": "code",
      "source": [
        "# create ngrams male debates\n",
        "n_grams_male = generate_ngrams(df3_male.speech, 2)"
      ],
      "metadata": {
        "id": "Bk6WVIsCFWgF"
      },
      "id": "Bk6WVIsCFWgF",
      "execution_count": 38,
      "outputs": []
    },
    {
      "cell_type": "code",
      "source": [
        "# m_ms refers to male_malespeaker. Meaning the male ngrams in the male speeches are retrieved here\n",
        "ngram_m_ms = list((filter(lambda val: val if (val.split(\" \")[1] in male_words) else '', [ngram for ngram in n_grams_male] )))"
      ],
      "metadata": {
        "id": "Q5eQJatIFWpr"
      },
      "id": "Q5eQJatIFWpr",
      "execution_count": 39,
      "outputs": []
    },
    {
      "cell_type": "code",
      "source": [
        "# f_ms refers to female_malespeaker. Meaning the male ngrams in the male speeches are retrieved here\n",
        "ngram_f_ms = list((filter(lambda val: val if (val.split(\" \")[1] in female_words) else '', [ngram for ngram in n_grams_male] )))"
      ],
      "metadata": {
        "id": "M_m0rPpRFWsb"
      },
      "id": "M_m0rPpRFWsb",
      "execution_count": 40,
      "outputs": []
    },
    {
      "cell_type": "markdown",
      "source": [
        "## Finding ngrams with adjectives"
      ],
      "metadata": {
        "id": "zFuFb4Y-GpyN"
      },
      "id": "zFuFb4Y-GpyN"
    },
    {
      "cell_type": "code",
      "source": [
        "# the adj_check only returns a word if it's an adjective\n",
        "adj_check(\"beautiful\")"
      ],
      "metadata": {
        "colab": {
          "base_uri": "https://localhost:8080/",
          "height": 36
        },
        "id": "2MEspoqmM8si",
        "outputId": "6cd086eb-83fd-446f-d56e-0ae5430f7a45"
      },
      "id": "2MEspoqmM8si",
      "execution_count": null,
      "outputs": [
        {
          "output_type": "execute_result",
          "data": {
            "text/plain": [
              "'beautiful'"
            ],
            "application/vnd.google.colaboratory.intrinsic+json": {
              "type": "string"
            }
          },
          "metadata": {},
          "execution_count": 60
        }
      ]
    },
    {
      "cell_type": "code",
      "source": [
        "#retrieving all adjectives in the ngrams\n",
        "adjs_f_fs = list((filter(lambda val: val if adj_check(val.split(\" \")[0]) else '', [ngram for ngram in ngram_f_fs] )))\n",
        "adjs_m_fs = list((filter(lambda val: val if adj_check(val.split(\" \")[0]) else '', [ngram for ngram in ngram_m_fs] )))\n",
        "adjs_f_ms = list((filter(lambda val: val if adj_check(val.split(\" \")[0]) else '', [ngram for ngram in ngram_f_ms] )))\n",
        "adjs_m_ms = list((filter(lambda val: val if adj_check(val.split(\" \")[0]) else '', [ngram for ngram in ngram_m_ms] )))"
      ],
      "metadata": {
        "colab": {
          "base_uri": "https://localhost:8080/"
        },
        "id": "ReQKbvL7Jzqz",
        "outputId": "47c47b57-b3ba-4ba8-fc67-b75c1caea8b7"
      },
      "id": "ReQKbvL7Jzqz",
      "execution_count": null,
      "outputs": [
        {
          "output_type": "stream",
          "name": "stdout",
          "text": [
            "Execution time: 0:59:41.051821 seconds\n"
          ]
        }
      ]
    },
    {
      "cell_type": "code",
      "source": [
        "lists = [adjs_f_fs, adjs_m_fs, adjs_f_ms, adjs_m_ms ]"
      ],
      "metadata": {
        "id": "zTQgbvo-bdWD"
      },
      "id": "zTQgbvo-bdWD",
      "execution_count": null,
      "outputs": []
    },
    {
      "cell_type": "code",
      "source": [
        "# the adjectives are all saved to review manually and divide over the categories manually\n",
        "dfff1 = pd.DataFrame({'col': adjs_f_fs})\n",
        "dfff1.to_csv('adj1.csv', index=False)\n",
        "dfff2 = pd.DataFrame({'col': adjs_m_fs})\n",
        "dfff2.to_csv('adj2.csv', index=False)\n",
        "dfff3 = pd.DataFrame({'col': adjs_f_ms})\n",
        "dfff3.to_csv('adj3.csv', index=False)\n",
        "dfff4 = pd.DataFrame({'col': adjs_m_ms})\n",
        "dfff4.to_csv('adj4.csv', index=False)"
      ],
      "metadata": {
        "id": "eU2qgelnb3eK"
      },
      "id": "eU2qgelnb3eK",
      "execution_count": null,
      "outputs": []
    },
    {
      "cell_type": "markdown",
      "id": "356fba26",
      "metadata": {
        "id": "356fba26"
      },
      "source": [
        "## Preprocess text"
      ]
    },
    {
      "cell_type": "code",
      "execution_count": 41,
      "id": "4dc4e067",
      "metadata": {
        "id": "4dc4e067"
      },
      "outputs": [],
      "source": [
        "%%capture\n",
        "\n",
        "# tokenise the texts for the Word2Vec training\n",
        "def tokenize1(texts):\n",
        "    processed_texts = [text for text in nlp.pipe(texts, \n",
        "                                              disable=[\"ner\",\n",
        "                                                       \"parser\"])]\n",
        "    # lower case tokens and remove punctuations\n",
        "    tokenized_text = [[token.text.lower() for token in processed_text if not token.is_punct] \n",
        "                      for processed_text in processed_texts]\n",
        "\n",
        "    # return tokenized text\n",
        "    return (tokenized_text)"
      ]
    },
    {
      "cell_type": "code",
      "source": [
        "import warnings\n",
        "warnings.filterwarnings(\"ignore\", category=DeprecationWarning) "
      ],
      "metadata": {
        "id": "s4NKww2bumk2"
      },
      "id": "s4NKww2bumk2",
      "execution_count": 42,
      "outputs": []
    },
    {
      "cell_type": "code",
      "execution_count": null,
      "id": "f639718d",
      "metadata": {
        "id": "f639718d"
      },
      "outputs": [],
      "source": [
        "%%capture\n",
        "\n",
        "# the tokenizing\n",
        "female_tokens = tokenize1(df3_female['speech'])\n",
        "male_tokens = tokenize1(df3_male['speech'])"
      ]
    },
    {
      "cell_type": "markdown",
      "id": "f1a3ac2e",
      "metadata": {
        "id": "f1a3ac2e"
      },
      "source": [
        "## Create word embeddings"
      ]
    },
    {
      "cell_type": "code",
      "source": [
        "female_tokens = tokenize1(df3_female.speech)"
      ],
      "metadata": {
        "id": "x-ZQ5tF_x-Qp"
      },
      "id": "x-ZQ5tF_x-Qp",
      "execution_count": null,
      "outputs": []
    },
    {
      "cell_type": "code",
      "source": [
        "female_tokens1 = female_tokens[:10000]"
      ],
      "metadata": {
        "id": "29gKptBT9-lu"
      },
      "id": "29gKptBT9-lu",
      "execution_count": null,
      "outputs": []
    },
    {
      "cell_type": "code",
      "execution_count": null,
      "id": "566cc41e",
      "metadata": {
        "id": "566cc41e",
        "outputId": "8e974160-da51-482d-d2d5-7390aa892922",
        "colab": {
          "base_uri": "https://localhost:8080/"
        }
      },
      "outputs": [
        {
          "output_type": "execute_result",
          "data": {
            "text/plain": [
              "(59946770, 81960705)"
            ]
          },
          "metadata": {},
          "execution_count": 77
        }
      ],
      "source": [
        "# Female model\n",
        "\n",
        "SIZE = 300 # dimensions of the embeddings\n",
        "SG = 1 # whether to use skip-gram or CBOW (we use skip-gram)\n",
        "WINDOW = 10 # the window size\n",
        "N_WORKERS = 1 # number of workers to use\n",
        "MIN_COUNT = 1\n",
        "\n",
        "# setting up the word2vec female_model\n",
        "female_model = Word2Vec(\n",
        "                size=SIZE,\n",
        "                sg=SG,\n",
        "                window=WINDOW, \n",
        "                min_count=MIN_COUNT,\n",
        "                workers=N_WORKERS)\n",
        "\n",
        "# the female_model\n",
        "female_model.build_vocab(female_tokens)\n",
        "\n",
        "female_model.train(female_tokens,\n",
        "           total_examples=female_model.corpus_count,\n",
        "           epochs=female_model.epochs) # grab some coffee while training"
      ]
    },
    {
      "cell_type": "code",
      "source": [
        "# save the female model for later use\n",
        "female_model.save(\"female_word2vec.model\")"
      ],
      "metadata": {
        "id": "61g52TS2HSW0"
      },
      "id": "61g52TS2HSW0",
      "execution_count": null,
      "outputs": []
    },
    {
      "cell_type": "code",
      "source": [
        "len(df3_male.speech)"
      ],
      "metadata": {
        "colab": {
          "base_uri": "https://localhost:8080/"
        },
        "id": "CqjkgUYtLbUi",
        "outputId": "af131371-b3ec-43d7-c7cc-f2b36f72311d"
      },
      "id": "CqjkgUYtLbUi",
      "execution_count": null,
      "outputs": [
        {
          "output_type": "execute_result",
          "data": {
            "text/plain": [
              "255571"
            ]
          },
          "metadata": {},
          "execution_count": 33
        }
      ]
    },
    {
      "cell_type": "code",
      "source": [
        "# the tokenizing is done in 3 steps because of storage issues\n",
        "male_tokens1 = tokenize1(df3_male.speech[:90000])"
      ],
      "metadata": {
        "id": "sZyht-mlMl83"
      },
      "id": "sZyht-mlMl83",
      "execution_count": null,
      "outputs": []
    },
    {
      "cell_type": "code",
      "source": [
        "male_tokens2 = tokenize1(df3_male.speech[90001:180000])"
      ],
      "metadata": {
        "id": "2L5Hy_v1MoHe"
      },
      "id": "2L5Hy_v1MoHe",
      "execution_count": null,
      "outputs": []
    },
    {
      "cell_type": "code",
      "source": [
        "male_tokens3 = tokenize1(df3_male.speech[180001:-1])"
      ],
      "metadata": {
        "id": "i8pVis6rM3Ai"
      },
      "id": "i8pVis6rM3Ai",
      "execution_count": null,
      "outputs": []
    },
    {
      "cell_type": "code",
      "source": [
        "# add all tokens together\n",
        "male_tokens = male_tokens1 + male_tokens2 + male_tokens3"
      ],
      "metadata": {
        "id": "HX3pc0XS6aSA"
      },
      "id": "HX3pc0XS6aSA",
      "execution_count": null,
      "outputs": []
    },
    {
      "cell_type": "code",
      "source": [
        "# male model\n",
        "\n",
        "# 300 as advised in the lectures\n",
        "SIZE = 300 # dimensions of the embeddings\n",
        "SG = 1 # whether to use skip-gram or CBOW (we use skip-gram)\n",
        "WINDOW = 10 # the window size\n",
        "N_WORKERS = 1 # number of workers to use\n",
        "MIN_COUNT = 1\n",
        "\n",
        "# setting up the word2vec male_model\n",
        "male_model = Word2Vec(\n",
        "                size=SIZE,\n",
        "                sg=SG,\n",
        "                window=WINDOW, \n",
        "                min_count=MIN_COUNT,\n",
        "                workers=N_WORKERS)\n",
        "\n",
        "# the male_model\n",
        "male_model.build_vocab(male_tokens)\n",
        "\n",
        "male_model.train(male_tokens,\n",
        "           total_examples=male_model.corpus_count,\n",
        "           epochs=male_model.epochs) # grab some coffee while training"
      ],
      "metadata": {
        "colab": {
          "base_uri": "https://localhost:8080/"
        },
        "id": "kBlGL6jrojFW",
        "outputId": "80c61a90-4650-45cb-add8-4e4f073cdd86"
      },
      "id": "kBlGL6jrojFW",
      "execution_count": null,
      "outputs": [
        {
          "output_type": "execute_result",
          "data": {
            "text/plain": [
              "(139790552, 192715360)"
            ]
          },
          "metadata": {},
          "execution_count": 31
        }
      ]
    },
    {
      "cell_type": "code",
      "source": [
        "# save the male model for later use\n",
        "male_model.save(\"male_word2vec.model\")"
      ],
      "metadata": {
        "id": "8Z6deB9EaXPH"
      },
      "id": "8Z6deB9EaXPH",
      "execution_count": null,
      "outputs": []
    }
  ],
  "metadata": {
    "kernelspec": {
      "display_name": "Python 3 (ipykernel)",
      "language": "python",
      "name": "python3"
    },
    "language_info": {
      "codemirror_mode": {
        "name": "ipython",
        "version": 3
      },
      "file_extension": ".py",
      "mimetype": "text/x-python",
      "name": "python",
      "nbconvert_exporter": "python",
      "pygments_lexer": "ipython3",
      "version": "3.9.6"
    },
    "colab": {
      "name": "PreProcessing and Word2Vec model training.ipynb",
      "provenance": [],
      "machine_shape": "hm",
      "collapsed_sections": []
    },
    "accelerator": "GPU"
  },
  "nbformat": 4,
  "nbformat_minor": 5
}